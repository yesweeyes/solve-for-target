{
  "cells": [
    {
      "cell_type": "code",
      "execution_count": 8,
      "metadata": {
        "id": "rpYSMQ01Xg5T"
      },
      "outputs": [],
      "source": [
        "import pandas as pd\n",
        "import numpy as np"
      ]
    },
    {
      "cell_type": "code",
      "execution_count": 9,
      "metadata": {
        "id": "AWifMuWaYBJ4"
      },
      "outputs": [],
      "source": [
        "data = pd.read_excel('/home/shysu/code/solve-for-target/data/data.xlsx')"
      ]
    },
    {
      "cell_type": "code",
      "execution_count": 10,
      "metadata": {
        "colab": {
          "base_uri": "https://localhost:8080/"
        },
        "id": "mKU2HHgyZ8pu",
        "outputId": "a8295c55-8ac8-4674-e556-b4dc843081a4"
      },
      "outputs": [
        {
          "data": {
            "text/plain": [
              "(34660, 9)"
            ]
          },
          "execution_count": 10,
          "metadata": {},
          "output_type": "execute_result"
        }
      ],
      "source": [
        "data.shape"
      ]
    },
    {
      "cell_type": "code",
      "execution_count": 11,
      "metadata": {
        "colab": {
          "base_uri": "https://localhost:8080/",
          "height": 380
        },
        "id": "OzF5cwnLZrrU",
        "outputId": "d7d9d234-b898-4011-b702-1d62ac079a84"
      },
      "outputs": [
        {
          "data": {
            "text/html": [
              "<div>\n",
              "<style scoped>\n",
              "    .dataframe tbody tr th:only-of-type {\n",
              "        vertical-align: middle;\n",
              "    }\n",
              "\n",
              "    .dataframe tbody tr th {\n",
              "        vertical-align: top;\n",
              "    }\n",
              "\n",
              "    .dataframe thead th {\n",
              "        text-align: right;\n",
              "    }\n",
              "</style>\n",
              "<table border=\"1\" class=\"dataframe\">\n",
              "  <thead>\n",
              "    <tr style=\"text-align: right;\">\n",
              "      <th></th>\n",
              "      <th>product</th>\n",
              "      <th>source</th>\n",
              "      <th>categories</th>\n",
              "      <th>date</th>\n",
              "      <th>didPurchase</th>\n",
              "      <th>doRecommend</th>\n",
              "      <th>rating</th>\n",
              "      <th>reviews</th>\n",
              "      <th>title</th>\n",
              "    </tr>\n",
              "  </thead>\n",
              "  <tbody>\n",
              "    <tr>\n",
              "      <th>0</th>\n",
              "      <td>electronics brand product name Tablet A 10.1 T...</td>\n",
              "      <td>Target</td>\n",
              "      <td>Electronics,iPad &amp; Tablets,All Tablets,XYZ bra...</td>\n",
              "      <td>2021-01-13T00:00:00.000Z</td>\n",
              "      <td>NaN</td>\n",
              "      <td>1.0</td>\n",
              "      <td>5.0</td>\n",
              "      <td>This product so far has not disappointed. My c...</td>\n",
              "      <td>brand name</td>\n",
              "    </tr>\n",
              "    <tr>\n",
              "      <th>1</th>\n",
              "      <td>electronics brand product name Tablet A 10.1 T...</td>\n",
              "      <td>Target</td>\n",
              "      <td>Electronics,iPad &amp; Tablets,All Tablets,XYZ bra...</td>\n",
              "      <td>2021-01-13T00:00:00.000Z</td>\n",
              "      <td>NaN</td>\n",
              "      <td>1.0</td>\n",
              "      <td>5.0</td>\n",
              "      <td>great for beginner or experienced person. Boug...</td>\n",
              "      <td>very fast</td>\n",
              "    </tr>\n",
              "    <tr>\n",
              "      <th>2</th>\n",
              "      <td>electronics brand product name Tablet A 10.1 T...</td>\n",
              "      <td>Target</td>\n",
              "      <td>Electronics,iPad &amp; Tablets,All Tablets,XYZ bra...</td>\n",
              "      <td>2021-01-13T00:00:00.000Z</td>\n",
              "      <td>NaN</td>\n",
              "      <td>1.0</td>\n",
              "      <td>5.0</td>\n",
              "      <td>Inexpensive tablet for him to use and learn on...</td>\n",
              "      <td>Beginner tablet for our 9 year old son.</td>\n",
              "    </tr>\n",
              "    <tr>\n",
              "      <th>3</th>\n",
              "      <td>electronics brand product name Tablet A 10.1 T...</td>\n",
              "      <td>Target</td>\n",
              "      <td>Electronics,iPad &amp; Tablets,All Tablets,XYZ bra...</td>\n",
              "      <td>2021-01-13T00:00:00.000Z</td>\n",
              "      <td>NaN</td>\n",
              "      <td>1.0</td>\n",
              "      <td>4.0</td>\n",
              "      <td>I've had my XYZ brand HD 8 two weeks now and I...</td>\n",
              "      <td>Good!!!</td>\n",
              "    </tr>\n",
              "    <tr>\n",
              "      <th>4</th>\n",
              "      <td>electronics brand product name Tablet A 10.1 T...</td>\n",
              "      <td>Target</td>\n",
              "      <td>Electronics,iPad &amp; Tablets,All Tablets,XYZ bra...</td>\n",
              "      <td>2021-01-12T00:00:00.000Z</td>\n",
              "      <td>NaN</td>\n",
              "      <td>1.0</td>\n",
              "      <td>5.0</td>\n",
              "      <td>I bought this for my grand daughter when she c...</td>\n",
              "      <td>Fantastic Tablet for kids</td>\n",
              "    </tr>\n",
              "  </tbody>\n",
              "</table>\n",
              "</div>"
            ],
            "text/plain": [
              "                                             product  source  \\\n",
              "0  electronics brand product name Tablet A 10.1 T...  Target   \n",
              "1  electronics brand product name Tablet A 10.1 T...  Target   \n",
              "2  electronics brand product name Tablet A 10.1 T...  Target   \n",
              "3  electronics brand product name Tablet A 10.1 T...  Target   \n",
              "4  electronics brand product name Tablet A 10.1 T...  Target   \n",
              "\n",
              "                                          categories  \\\n",
              "0  Electronics,iPad & Tablets,All Tablets,XYZ bra...   \n",
              "1  Electronics,iPad & Tablets,All Tablets,XYZ bra...   \n",
              "2  Electronics,iPad & Tablets,All Tablets,XYZ bra...   \n",
              "3  Electronics,iPad & Tablets,All Tablets,XYZ bra...   \n",
              "4  Electronics,iPad & Tablets,All Tablets,XYZ bra...   \n",
              "\n",
              "                       date  didPurchase  doRecommend  rating  \\\n",
              "0  2021-01-13T00:00:00.000Z          NaN          1.0     5.0   \n",
              "1  2021-01-13T00:00:00.000Z          NaN          1.0     5.0   \n",
              "2  2021-01-13T00:00:00.000Z          NaN          1.0     5.0   \n",
              "3  2021-01-13T00:00:00.000Z          NaN          1.0     4.0   \n",
              "4  2021-01-12T00:00:00.000Z          NaN          1.0     5.0   \n",
              "\n",
              "                                             reviews  \\\n",
              "0  This product so far has not disappointed. My c...   \n",
              "1  great for beginner or experienced person. Boug...   \n",
              "2  Inexpensive tablet for him to use and learn on...   \n",
              "3  I've had my XYZ brand HD 8 two weeks now and I...   \n",
              "4  I bought this for my grand daughter when she c...   \n",
              "\n",
              "                                     title  \n",
              "0                               brand name  \n",
              "1                                very fast  \n",
              "2  Beginner tablet for our 9 year old son.  \n",
              "3                                  Good!!!  \n",
              "4                Fantastic Tablet for kids  "
            ]
          },
          "execution_count": 11,
          "metadata": {},
          "output_type": "execute_result"
        }
      ],
      "source": [
        "data.head()"
      ]
    },
    {
      "cell_type": "code",
      "execution_count": 12,
      "metadata": {
        "colab": {
          "base_uri": "https://localhost:8080/",
          "height": 300
        },
        "id": "u5re5g_kHYOs",
        "outputId": "b852fee3-be19-41b7-9287-9db8c6ee31be"
      },
      "outputs": [
        {
          "data": {
            "text/html": [
              "<div>\n",
              "<style scoped>\n",
              "    .dataframe tbody tr th:only-of-type {\n",
              "        vertical-align: middle;\n",
              "    }\n",
              "\n",
              "    .dataframe tbody tr th {\n",
              "        vertical-align: top;\n",
              "    }\n",
              "\n",
              "    .dataframe thead th {\n",
              "        text-align: right;\n",
              "    }\n",
              "</style>\n",
              "<table border=\"1\" class=\"dataframe\">\n",
              "  <thead>\n",
              "    <tr style=\"text-align: right;\">\n",
              "      <th></th>\n",
              "      <th>didPurchase</th>\n",
              "      <th>doRecommend</th>\n",
              "      <th>rating</th>\n",
              "    </tr>\n",
              "  </thead>\n",
              "  <tbody>\n",
              "    <tr>\n",
              "      <th>count</th>\n",
              "      <td>1.0</td>\n",
              "      <td>34066.000000</td>\n",
              "      <td>34627.000000</td>\n",
              "    </tr>\n",
              "    <tr>\n",
              "      <th>mean</th>\n",
              "      <td>1.0</td>\n",
              "      <td>0.959373</td>\n",
              "      <td>4.584573</td>\n",
              "    </tr>\n",
              "    <tr>\n",
              "      <th>std</th>\n",
              "      <td>NaN</td>\n",
              "      <td>0.197427</td>\n",
              "      <td>0.735653</td>\n",
              "    </tr>\n",
              "    <tr>\n",
              "      <th>min</th>\n",
              "      <td>1.0</td>\n",
              "      <td>0.000000</td>\n",
              "      <td>1.000000</td>\n",
              "    </tr>\n",
              "    <tr>\n",
              "      <th>25%</th>\n",
              "      <td>1.0</td>\n",
              "      <td>1.000000</td>\n",
              "      <td>4.000000</td>\n",
              "    </tr>\n",
              "    <tr>\n",
              "      <th>50%</th>\n",
              "      <td>1.0</td>\n",
              "      <td>1.000000</td>\n",
              "      <td>5.000000</td>\n",
              "    </tr>\n",
              "    <tr>\n",
              "      <th>75%</th>\n",
              "      <td>1.0</td>\n",
              "      <td>1.000000</td>\n",
              "      <td>5.000000</td>\n",
              "    </tr>\n",
              "    <tr>\n",
              "      <th>max</th>\n",
              "      <td>1.0</td>\n",
              "      <td>1.000000</td>\n",
              "      <td>5.000000</td>\n",
              "    </tr>\n",
              "  </tbody>\n",
              "</table>\n",
              "</div>"
            ],
            "text/plain": [
              "       didPurchase   doRecommend        rating\n",
              "count          1.0  34066.000000  34627.000000\n",
              "mean           1.0      0.959373      4.584573\n",
              "std            NaN      0.197427      0.735653\n",
              "min            1.0      0.000000      1.000000\n",
              "25%            1.0      1.000000      4.000000\n",
              "50%            1.0      1.000000      5.000000\n",
              "75%            1.0      1.000000      5.000000\n",
              "max            1.0      1.000000      5.000000"
            ]
          },
          "execution_count": 12,
          "metadata": {},
          "output_type": "execute_result"
        }
      ],
      "source": [
        "data.describe()"
      ]
    },
    {
      "cell_type": "code",
      "execution_count": 13,
      "metadata": {
        "colab": {
          "base_uri": "https://localhost:8080/"
        },
        "id": "1T1ZJ8bsaILQ",
        "outputId": "d81fb4f1-ea33-4a52-ee60-9e1d3ac45460"
      },
      "outputs": [
        {
          "name": "stdout",
          "output_type": "stream",
          "text": [
            "<class 'pandas.core.frame.DataFrame'>\n",
            "RangeIndex: 34660 entries, 0 to 34659\n",
            "Data columns (total 9 columns):\n",
            " #   Column       Non-Null Count  Dtype  \n",
            "---  ------       --------------  -----  \n",
            " 0   product      27900 non-null  object \n",
            " 1   source       34660 non-null  object \n",
            " 2   categories   34660 non-null  object \n",
            " 3   date         34621 non-null  object \n",
            " 4   didPurchase  1 non-null      float64\n",
            " 5   doRecommend  34066 non-null  float64\n",
            " 6   rating       34627 non-null  float64\n",
            " 7   reviews      34658 non-null  object \n",
            " 8   title        34654 non-null  object \n",
            "dtypes: float64(3), object(6)\n",
            "memory usage: 2.4+ MB\n"
          ]
        }
      ],
      "source": [
        "data.info()"
      ]
    },
    {
      "cell_type": "code",
      "execution_count": 14,
      "metadata": {
        "colab": {
          "base_uri": "https://localhost:8080/"
        },
        "id": "Q23pyCoxHXrC",
        "outputId": "63273f22-198a-45d5-d1d1-2ff1e4c2338b"
      },
      "outputs": [
        {
          "data": {
            "text/plain": [
              "Index(['product', 'source', 'categories', 'date', 'didPurchase', 'doRecommend',\n",
              "       'rating', 'reviews', 'title'],\n",
              "      dtype='object')"
            ]
          },
          "execution_count": 14,
          "metadata": {},
          "output_type": "execute_result"
        }
      ],
      "source": [
        "data.columns"
      ]
    },
    {
      "cell_type": "markdown",
      "metadata": {
        "id": "erB3od72dH0J"
      },
      "source": [
        "# Preprocessing"
      ]
    },
    {
      "cell_type": "code",
      "execution_count": 15,
      "metadata": {
        "id": "teyxp-P3hlb6"
      },
      "outputs": [],
      "source": [
        "data.drop(['didPurchase', 'date'], axis=1, inplace=True)"
      ]
    },
    {
      "cell_type": "markdown",
      "metadata": {
        "id": "FI4p1sYmdMXn"
      },
      "source": [
        "Column: Product"
      ]
    },
    {
      "cell_type": "code",
      "execution_count": 16,
      "metadata": {
        "colab": {
          "base_uri": "https://localhost:8080/"
        },
        "id": "4NUWYNMZdHWk",
        "outputId": "6ef25106-9d19-40fc-a5f5-d04ee21752d2"
      },
      "outputs": [
        {
          "data": {
            "text/plain": [
              "np.int64(6760)"
            ]
          },
          "execution_count": 16,
          "metadata": {},
          "output_type": "execute_result"
        }
      ],
      "source": [
        "data['product'].isna().sum()"
      ]
    },
    {
      "cell_type": "code",
      "execution_count": 17,
      "metadata": {
        "id": "_DsJugyBdSm9"
      },
      "outputs": [],
      "source": [
        "data.dropna(subset=['product'], inplace=True)"
      ]
    },
    {
      "cell_type": "code",
      "execution_count": 18,
      "metadata": {
        "colab": {
          "base_uri": "https://localhost:8080/"
        },
        "id": "WpUoSy8-dy0a",
        "outputId": "7f46206e-c64a-4a24-ffe8-3d3bee9e6f38"
      },
      "outputs": [
        {
          "data": {
            "text/plain": [
              "60"
            ]
          },
          "execution_count": 18,
          "metadata": {},
          "output_type": "execute_result"
        }
      ],
      "source": [
        "data['product'].unique().size"
      ]
    },
    {
      "cell_type": "markdown",
      "metadata": {
        "id": "vdVYRdElP5C-"
      },
      "source": [
        "Column: Source"
      ]
    },
    {
      "cell_type": "code",
      "execution_count": 19,
      "metadata": {
        "colab": {
          "base_uri": "https://localhost:8080/"
        },
        "id": "tVLMTkvNP4vc",
        "outputId": "5e404b08-b9f2-45f2-b00a-28dcdaae011d"
      },
      "outputs": [
        {
          "data": {
            "text/plain": [
              "np.int64(0)"
            ]
          },
          "execution_count": 19,
          "metadata": {},
          "output_type": "execute_result"
        }
      ],
      "source": [
        "data['source'].isna().sum()"
      ]
    },
    {
      "cell_type": "code",
      "execution_count": 20,
      "metadata": {
        "colab": {
          "base_uri": "https://localhost:8080/"
        },
        "id": "O4ULGjT1QlR5",
        "outputId": "3aeeb6c1-ce19-4108-8cb8-63e0080c3d9b"
      },
      "outputs": [
        {
          "data": {
            "text/plain": [
              "1"
            ]
          },
          "execution_count": 20,
          "metadata": {},
          "output_type": "execute_result"
        }
      ],
      "source": [
        "data['source'].unique().size"
      ]
    },
    {
      "cell_type": "code",
      "execution_count": 21,
      "metadata": {
        "colab": {
          "base_uri": "https://localhost:8080/"
        },
        "id": "a7qdP8JBQspP",
        "outputId": "f8ec7db6-6c53-4209-fa25-09260c7d3ba2"
      },
      "outputs": [
        {
          "data": {
            "text/plain": [
              "array(['Target'], dtype=object)"
            ]
          },
          "execution_count": 21,
          "metadata": {},
          "output_type": "execute_result"
        }
      ],
      "source": [
        "data['source'].unique()"
      ]
    },
    {
      "cell_type": "code",
      "execution_count": 22,
      "metadata": {
        "id": "EWp68HjlRItx"
      },
      "outputs": [],
      "source": [
        "data.drop(['source'], axis=1, inplace=True)"
      ]
    },
    {
      "cell_type": "markdown",
      "metadata": {
        "id": "ZkDquJnnj1xz"
      },
      "source": [
        "Column: Category"
      ]
    },
    {
      "cell_type": "code",
      "execution_count": 23,
      "metadata": {
        "id": "HFl72elIj4AK"
      },
      "outputs": [],
      "source": [
        "data['categories'].dropna(inplace=True)"
      ]
    },
    {
      "cell_type": "code",
      "execution_count": 24,
      "metadata": {
        "colab": {
          "base_uri": "https://localhost:8080/"
        },
        "id": "toOjuXrxeGk0",
        "outputId": "6a936ca8-0188-4766-9943-4710178dd5ee"
      },
      "outputs": [
        {
          "data": {
            "text/plain": [
              "32"
            ]
          },
          "execution_count": 24,
          "metadata": {},
          "output_type": "execute_result"
        }
      ],
      "source": [
        "data['categories'].unique().size"
      ]
    },
    {
      "cell_type": "markdown",
      "metadata": {
        "id": "2hfmlAoxRakq"
      },
      "source": [
        "Column: Rating"
      ]
    },
    {
      "cell_type": "code",
      "execution_count": 25,
      "metadata": {
        "colab": {
          "base_uri": "https://localhost:8080/"
        },
        "id": "ArZKStO4RuHy",
        "outputId": "24fe985c-85e6-4986-8217-3df401e8ec78"
      },
      "outputs": [
        {
          "data": {
            "text/plain": [
              "array([ 5.,  4.,  2.,  1.,  3., nan])"
            ]
          },
          "execution_count": 25,
          "metadata": {},
          "output_type": "execute_result"
        }
      ],
      "source": [
        "data['rating'].unique()"
      ]
    },
    {
      "cell_type": "code",
      "execution_count": 26,
      "metadata": {
        "colab": {
          "base_uri": "https://localhost:8080/"
        },
        "id": "Y7lwo1_dSl-w",
        "outputId": "ea7ea345-68e3-4040-8148-96d6e01ee2c4"
      },
      "outputs": [
        {
          "data": {
            "text/plain": [
              "np.int64(32)"
            ]
          },
          "execution_count": 26,
          "metadata": {},
          "output_type": "execute_result"
        }
      ],
      "source": [
        "data['rating'].isna().sum()"
      ]
    },
    {
      "cell_type": "code",
      "execution_count": 27,
      "metadata": {
        "colab": {
          "base_uri": "https://localhost:8080/"
        },
        "id": "gMhaToJTWFRn",
        "outputId": "d8805998-bbb3-40d1-9e2c-3150e455d311"
      },
      "outputs": [
        {
          "name": "stdout",
          "output_type": "stream",
          "text": [
            "                                                                                                           product  missing_ratings  total_reviews  percent_missing\n",
            "                                                             brand name Keyboard,,,_x000D_\\nbrand name Keyboard,,,                7              9            77.78\n",
            "electronics brand product name Tablet A 10.1 Tablet, 8 HD Display, Wi-Fi, 32 GB - Includes Special Offers, Magenta               12            158             7.59\n",
            "                                         XYZ brand Tablet, 7 Display, Wi-Fi, 8 GB - Includes Special Offers, Black                4            372             1.08\n",
            "                                      Brand New electronics brand IPad16gb 7 Ips Display Tablet Wifi 16 Gb Blue,,,                5           1038             0.48\n",
            "                                       XYZ brand Tablet, 7 Display, Wi-Fi, 8 GB - Includes Special Offers, Magenta                4          10966             0.04\n"
          ]
        }
      ],
      "source": [
        "# Get total and missing rating counts\n",
        "total_counts = data['product'].value_counts()\n",
        "missing_counts = data[data['rating'].isna()]['product'].value_counts()\n",
        "\n",
        "# Join only on products with missing ratings (inner join)\n",
        "summary = pd.DataFrame(missing_counts).join(\n",
        "    total_counts, how='inner', lsuffix='_missing', rsuffix='_total'\n",
        ")\n",
        "\n",
        "# Rename columns for clarity\n",
        "summary.columns = ['missing_ratings', 'total_reviews']\n",
        "\n",
        "# Add percent missing\n",
        "summary['percent_missing'] = (summary['missing_ratings'] / summary['total_reviews'] * 100).round(2)\n",
        "\n",
        "# Optional: sort by percent_missing\n",
        "summary = summary.sort_values('percent_missing', ascending=False)\n",
        "\n",
        "# Reset index to make 'product' a regular column\n",
        "summary = summary.reset_index()\n",
        "\n",
        "# Now it will look like a clean table\n",
        "print(summary.to_string(index=False))"
      ]
    },
    {
      "cell_type": "code",
      "execution_count": 28,
      "metadata": {
        "colab": {
          "base_uri": "https://localhost:8080/",
          "height": 241
        },
        "id": "KblmX3ydWOPt",
        "outputId": "8dacdcb8-00e6-4b2a-e193-cad461ab0c4c"
      },
      "outputs": [
        {
          "data": {
            "text/plain": [
              "0    brand name Keyboard,,,_x000D_\\nbrand name Keyb...\n",
              "1    electronics brand product name Tablet A 10.1 T...\n",
              "2    XYZ brand Tablet, 7 Display, Wi-Fi, 8 GB - Inc...\n",
              "3    Brand New electronics brand IPad16gb 7 Ips Dis...\n",
              "4    XYZ brand Tablet, 7 Display, Wi-Fi, 8 GB - Inc...\n",
              "Name: product, dtype: object"
            ]
          },
          "execution_count": 28,
          "metadata": {},
          "output_type": "execute_result"
        }
      ],
      "source": [
        "summary['product']"
      ]
    },
    {
      "cell_type": "code",
      "execution_count": 29,
      "metadata": {
        "id": "IEXIyMzK2-ni"
      },
      "outputs": [],
      "source": [
        "for product in summary['product']:\n",
        "    mask = data['product'] == product\n",
        "    median_rating = data.loc[mask, 'rating'].median()\n",
        "    data.loc[mask, 'rating'] = data.loc[mask, 'rating'].fillna(median_rating)"
      ]
    },
    {
      "cell_type": "code",
      "execution_count": 30,
      "metadata": {
        "colab": {
          "base_uri": "https://localhost:8080/"
        },
        "id": "fO6R54Bu4MkM",
        "outputId": "e4f5301c-d3c7-4e6e-bb3d-b2f64fa4ab7a"
      },
      "outputs": [
        {
          "data": {
            "text/plain": [
              "np.int64(0)"
            ]
          },
          "execution_count": 30,
          "metadata": {},
          "output_type": "execute_result"
        }
      ],
      "source": [
        "data['rating'].isna().sum()"
      ]
    },
    {
      "cell_type": "markdown",
      "metadata": {
        "id": "lt35riNt48i8"
      },
      "source": [
        "Column: doRecommend"
      ]
    },
    {
      "cell_type": "code",
      "execution_count": 31,
      "metadata": {
        "colab": {
          "base_uri": "https://localhost:8080/"
        },
        "id": "hpGc4b1D4dgl",
        "outputId": "ed1491af-a294-4462-d73f-49af751bd4d1"
      },
      "outputs": [
        {
          "data": {
            "text/plain": [
              "np.int64(491)"
            ]
          },
          "execution_count": 31,
          "metadata": {},
          "output_type": "execute_result"
        }
      ],
      "source": [
        "data['doRecommend'].isna().sum()"
      ]
    },
    {
      "cell_type": "code",
      "execution_count": 32,
      "metadata": {
        "colab": {
          "base_uri": "https://localhost:8080/"
        },
        "id": "rR2wkFeC5CKy",
        "outputId": "590f908d-560d-44ec-adb3-ef4bfd839a76"
      },
      "outputs": [
        {
          "data": {
            "text/plain": [
              "array([ 1.,  0., nan])"
            ]
          },
          "execution_count": 32,
          "metadata": {},
          "output_type": "execute_result"
        }
      ],
      "source": [
        "data['doRecommend'].unique()"
      ]
    },
    {
      "cell_type": "code",
      "execution_count": 33,
      "metadata": {
        "colab": {
          "base_uri": "https://localhost:8080/",
          "height": 509
        },
        "id": "tWodbtLY5o29",
        "outputId": "43ca7aff-df6f-4bce-c739-cd2fac7bed6b"
      },
      "outputs": [
        {
          "data": {
            "text/plain": [
              "product\n",
              "\\nelectonics brand Home                                                                                                                                                                                                              9\n",
              "All-New PocketBook Touch HD 3 E-reader - Black, 6 Glare-Free Touchscreen Display, Wi-Fi -  Includes Special Offers,,                                                                                                               212\n",
              "Brand New electronics brand IPad16gb 7 Ips Display Tablet Wifi 16 Gb Blue,,,                                                                                                                                                         8\n",
              "XYZ brand Kids Edition Tablet, 7 Display, Wi-Fi, 16 GB, Green Kid-Proof Case                                                                                                                                                         6\n",
              "XYZ brand Tablet, 7 Display, Wi-Fi, 8 GB - Includes Special Offers, Black                                                                                                                                                           38\n",
              "XYZ brand Tablet, 7 Display, Wi-Fi, 8 GB - Includes Special Offers, Magenta                                                                                                                                                          4\n",
              "brand name Keyboard,,,_x000D_\\nbrand name Keyboard,,,                                                                                                                                                                                9\n",
              "electronics brand product name Tablet A 10.1 Tablet, 8 HD Display, Wi-Fi, 32 GB - Includes Special Offers, Magenta                                                                                                                  12\n",
              "retail brand 5W USB Official OEM Charger and Power Adapter for XYZ brand Tablets and brand name eReaders,,,_x000D_\\nretail brand 5W USB Official OEM Charger and Power Adapter for XYZ brand Tablets and brand name eReaders,,,    189\n",
              "retail brand brand name Lighted Leather Cover,,,\\nretail brand brand name Lighted Leather Cover,,,                                                                                                                                   1\n",
              "retail brand brand name Lighted Leather Cover,,,_x000D_\\nbrand name Keyboard,,,                                                                                                                                                      1\n",
              "retail brand brand name Lighted Leather Cover,,,_x000D_\\nretail brand brand name Lighted Leather Cover,,,                                                                                                                            1\n",
              "retail brand brand name XYZ brand Hd (3rd Generation) 8gb,,,_x000D_\\nretail brand brand name XYZ brand Hd (3rd Generation) 8gb,,,                                                                                                    1\n",
              "Name: count, dtype: int64"
            ]
          },
          "execution_count": 33,
          "metadata": {},
          "output_type": "execute_result"
        }
      ],
      "source": [
        "data[data['doRecommend'].isna()].groupby('product')['product'].value_counts()"
      ]
    },
    {
      "cell_type": "code",
      "execution_count": 34,
      "metadata": {
        "id": "TehDyq6n7U3S"
      },
      "outputs": [],
      "source": [
        "# Only fill doRecommend where it's NaN\n",
        "data.loc[data['doRecommend'].isna(), 'doRecommend'] = np.where(\n",
        "    data.loc[data['doRecommend'].isna(), 'rating'] >= 4, 1, 0\n",
        ")\n"
      ]
    },
    {
      "cell_type": "markdown",
      "metadata": {
        "id": "QzA8KdXG9UWQ"
      },
      "source": [
        "Column: Reviews"
      ]
    },
    {
      "cell_type": "code",
      "execution_count": 35,
      "metadata": {
        "colab": {
          "base_uri": "https://localhost:8080/",
          "height": 112
        },
        "id": "e2P862199WA4",
        "outputId": "78d1b9a5-0e33-4f53-fd54-6c1ac0c81e72"
      },
      "outputs": [
        {
          "data": {
            "text/html": [
              "<div>\n",
              "<style scoped>\n",
              "    .dataframe tbody tr th:only-of-type {\n",
              "        vertical-align: middle;\n",
              "    }\n",
              "\n",
              "    .dataframe tbody tr th {\n",
              "        vertical-align: top;\n",
              "    }\n",
              "\n",
              "    .dataframe thead th {\n",
              "        text-align: right;\n",
              "    }\n",
              "</style>\n",
              "<table border=\"1\" class=\"dataframe\">\n",
              "  <thead>\n",
              "    <tr style=\"text-align: right;\">\n",
              "      <th></th>\n",
              "      <th>product</th>\n",
              "      <th>title</th>\n",
              "      <th>rating</th>\n",
              "    </tr>\n",
              "  </thead>\n",
              "  <tbody>\n",
              "    <tr>\n",
              "      <th>3111</th>\n",
              "      <td>retail brand 5W USB Official OEM Charger and P...</td>\n",
              "      <td>Five Stars</td>\n",
              "      <td>5.0</td>\n",
              "    </tr>\n",
              "    <tr>\n",
              "      <th>6724</th>\n",
              "      <td>XYZ brand Tablet, 7 Display, Wi-Fi, 8 GB - Inc...</td>\n",
              "      <td>Value for Money</td>\n",
              "      <td>5.0</td>\n",
              "    </tr>\n",
              "  </tbody>\n",
              "</table>\n",
              "</div>"
            ],
            "text/plain": [
              "                                                product            title  \\\n",
              "3111  retail brand 5W USB Official OEM Charger and P...       Five Stars   \n",
              "6724  XYZ brand Tablet, 7 Display, Wi-Fi, 8 GB - Inc...  Value for Money   \n",
              "\n",
              "      rating  \n",
              "3111     5.0  \n",
              "6724     5.0  "
            ]
          },
          "execution_count": 35,
          "metadata": {},
          "output_type": "execute_result"
        }
      ],
      "source": [
        "data[data['reviews'].isna()][['product', 'title', 'rating']]"
      ]
    },
    {
      "cell_type": "code",
      "execution_count": 36,
      "metadata": {
        "colab": {
          "base_uri": "https://localhost:8080/",
          "height": 195
        },
        "id": "0el17tYR9Y8W",
        "outputId": "6cf50827-bed4-4e66-8c14-37f55562bbfa"
      },
      "outputs": [
        {
          "data": {
            "text/plain": [
              "product\n",
              "retail brand 5W USB Official OEM Charger and Power Adapter for XYZ brand Tablets and brand name eReaders,,,_x000D_\\nretail brand 5W USB Official OEM Charger and Power Adapter for XYZ brand Tablets and brand name eReaders,,,    1\n",
              "XYZ brand Tablet, 7 Display, Wi-Fi, 8 GB - Includes Special Offers, Magenta                                                                                                                                                        1\n",
              "Name: count, dtype: int64"
            ]
          },
          "execution_count": 36,
          "metadata": {},
          "output_type": "execute_result"
        }
      ],
      "source": [
        "data[data['reviews'].isna()][['product', 'title', 'rating']]['product'].value_counts()"
      ]
    },
    {
      "cell_type": "code",
      "execution_count": 37,
      "metadata": {
        "id": "9lxWs7xX92fq"
      },
      "outputs": [],
      "source": [
        "data.dropna(subset=['reviews'], inplace=True)"
      ]
    },
    {
      "cell_type": "markdown",
      "metadata": {
        "id": "KZrHjLlX_I_m"
      },
      "source": [
        "Column: Title"
      ]
    },
    {
      "cell_type": "code",
      "execution_count": 38,
      "metadata": {
        "colab": {
          "base_uri": "https://localhost:8080/"
        },
        "id": "prS8LNcX-v_I",
        "outputId": "4ad956fd-875e-4dd9-9d0a-76cbebe84abe"
      },
      "outputs": [
        {
          "data": {
            "text/plain": [
              "np.int64(4)"
            ]
          },
          "execution_count": 38,
          "metadata": {},
          "output_type": "execute_result"
        }
      ],
      "source": [
        "data['title'].isna().sum()"
      ]
    },
    {
      "cell_type": "code",
      "execution_count": 39,
      "metadata": {
        "id": "FyZBl3fp_NsN"
      },
      "outputs": [],
      "source": [
        "data['title'] = data['title'].fillna('(missing title)')"
      ]
    },
    {
      "cell_type": "markdown",
      "metadata": {
        "id": "oQUKLG6GAHqJ"
      },
      "source": [
        "# End of Preprocessing - Lets See The Data"
      ]
    },
    {
      "cell_type": "code",
      "execution_count": 40,
      "metadata": {
        "colab": {
          "base_uri": "https://localhost:8080/"
        },
        "id": "f5WTQO_nAFVX",
        "outputId": "615a6825-e708-4464-a0d8-41241ed6c664"
      },
      "outputs": [
        {
          "data": {
            "text/plain": [
              "(27898, 6)"
            ]
          },
          "execution_count": 40,
          "metadata": {},
          "output_type": "execute_result"
        }
      ],
      "source": [
        "data.shape"
      ]
    },
    {
      "cell_type": "code",
      "execution_count": 41,
      "metadata": {
        "colab": {
          "base_uri": "https://localhost:8080/",
          "height": 300
        },
        "id": "5YAtD71gAhHQ",
        "outputId": "fb6984ca-c4e1-4029-8e92-bd3aeb8e674a"
      },
      "outputs": [
        {
          "data": {
            "text/html": [
              "<div>\n",
              "<style scoped>\n",
              "    .dataframe tbody tr th:only-of-type {\n",
              "        vertical-align: middle;\n",
              "    }\n",
              "\n",
              "    .dataframe tbody tr th {\n",
              "        vertical-align: top;\n",
              "    }\n",
              "\n",
              "    .dataframe thead th {\n",
              "        text-align: right;\n",
              "    }\n",
              "</style>\n",
              "<table border=\"1\" class=\"dataframe\">\n",
              "  <thead>\n",
              "    <tr style=\"text-align: right;\">\n",
              "      <th></th>\n",
              "      <th>doRecommend</th>\n",
              "      <th>rating</th>\n",
              "    </tr>\n",
              "  </thead>\n",
              "  <tbody>\n",
              "    <tr>\n",
              "      <th>count</th>\n",
              "      <td>27898.000000</td>\n",
              "      <td>27898.000000</td>\n",
              "    </tr>\n",
              "    <tr>\n",
              "      <th>mean</th>\n",
              "      <td>0.956377</td>\n",
              "      <td>4.565471</td>\n",
              "    </tr>\n",
              "    <tr>\n",
              "      <th>std</th>\n",
              "      <td>0.204259</td>\n",
              "      <td>0.742437</td>\n",
              "    </tr>\n",
              "    <tr>\n",
              "      <th>min</th>\n",
              "      <td>0.000000</td>\n",
              "      <td>1.000000</td>\n",
              "    </tr>\n",
              "    <tr>\n",
              "      <th>25%</th>\n",
              "      <td>1.000000</td>\n",
              "      <td>4.000000</td>\n",
              "    </tr>\n",
              "    <tr>\n",
              "      <th>50%</th>\n",
              "      <td>1.000000</td>\n",
              "      <td>5.000000</td>\n",
              "    </tr>\n",
              "    <tr>\n",
              "      <th>75%</th>\n",
              "      <td>1.000000</td>\n",
              "      <td>5.000000</td>\n",
              "    </tr>\n",
              "    <tr>\n",
              "      <th>max</th>\n",
              "      <td>1.000000</td>\n",
              "      <td>5.000000</td>\n",
              "    </tr>\n",
              "  </tbody>\n",
              "</table>\n",
              "</div>"
            ],
            "text/plain": [
              "        doRecommend        rating\n",
              "count  27898.000000  27898.000000\n",
              "mean       0.956377      4.565471\n",
              "std        0.204259      0.742437\n",
              "min        0.000000      1.000000\n",
              "25%        1.000000      4.000000\n",
              "50%        1.000000      5.000000\n",
              "75%        1.000000      5.000000\n",
              "max        1.000000      5.000000"
            ]
          },
          "execution_count": 41,
          "metadata": {},
          "output_type": "execute_result"
        }
      ],
      "source": [
        "data.describe()"
      ]
    },
    {
      "cell_type": "markdown",
      "metadata": {
        "id": "_LRHm2Sb_o5o"
      },
      "source": [
        "Create column: Feedback = Title + Reviews"
      ]
    },
    {
      "cell_type": "code",
      "execution_count": 42,
      "metadata": {
        "colab": {
          "base_uri": "https://localhost:8080/"
        },
        "id": "h3pxlhAaAq5I",
        "outputId": "3ec080d8-a66a-4691-9408-f3bc1fa97730"
      },
      "outputs": [
        {
          "name": "stdout",
          "output_type": "stream",
          "text": [
            "<class 'pandas.core.frame.DataFrame'>\n",
            "Index: 27898 entries, 0 to 27899\n",
            "Data columns (total 6 columns):\n",
            " #   Column       Non-Null Count  Dtype  \n",
            "---  ------       --------------  -----  \n",
            " 0   product      27898 non-null  object \n",
            " 1   categories   27898 non-null  object \n",
            " 2   doRecommend  27898 non-null  float64\n",
            " 3   rating       27898 non-null  float64\n",
            " 4   reviews      27898 non-null  object \n",
            " 5   title        27898 non-null  object \n",
            "dtypes: float64(2), object(4)\n",
            "memory usage: 1.5+ MB\n"
          ]
        }
      ],
      "source": [
        "data.info()"
      ]
    },
    {
      "cell_type": "markdown",
      "metadata": {
        "id": "36vYOGQUKkrz"
      },
      "source": [
        "# Feature Engineering"
      ]
    },
    {
      "cell_type": "markdown",
      "metadata": {
        "id": "fUPhnt7sLD2V"
      },
      "source": []
    },
    {
      "cell_type": "markdown",
      "metadata": {
        "id": "OayaLRa-LnwM"
      },
      "source": [
        "Combine title and reviews column for sentiment analysis"
      ]
    },
    {
      "cell_type": "code",
      "execution_count": 43,
      "metadata": {
        "id": "z0w7PScB_TBX"
      },
      "outputs": [],
      "source": [
        "data['feedback'] = data['title'].astype(str) + data['reviews']"
      ]
    },
    {
      "cell_type": "markdown",
      "metadata": {
        "id": "IbEFb5HiV3Em"
      },
      "source": [
        "Clean up the product column to avoid duplicates and variation of same product"
      ]
    },
    {
      "cell_type": "code",
      "execution_count": 44,
      "metadata": {
        "id": "4bTO6vK1V-U1"
      },
      "outputs": [],
      "source": [
        "import re\n",
        "\n",
        "def clean_product_name(text):\n",
        "    text = str(text).lower().strip()\n",
        "\n",
        "    # Remove excessive commas, whitespace\n",
        "    text = re.sub(r',+', '', text)\n",
        "    text = re.sub(r'\\s{2,}', ' ', text)\n",
        "\n",
        "    # Remove noise terms\n",
        "    noise_terms = [\n",
        "        'brand name', 'xyz brand', 'retail brand', 'electronics brand',\n",
        "        'certified refurbished', 'includes special offers',\n",
        "        'with special offers', 'special offers', 'previous generation',\n",
        "        'new', 'brand new', 'official oem', 'product name'\n",
        "    ]\n",
        "    for term in noise_terms:\n",
        "        text = text.replace(term, '')\n",
        "\n",
        "    # Remove extra punctuation and whitespace again\n",
        "    text = re.sub(r'\\s{2,}', ' ', text)\n",
        "    text = re.sub(r'[^\\w\\s]', '', text)  # remove punctuation\n",
        "\n",
        "    return text.strip()"
      ]
    },
    {
      "cell_type": "code",
      "execution_count": 45,
      "metadata": {
        "id": "EydZhwDIWBZ5"
      },
      "outputs": [],
      "source": [
        "data['product'] = data['product'].apply(clean_product_name)"
      ]
    },
    {
      "cell_type": "markdown",
      "metadata": {
        "id": "j_WWtKv4nxeB"
      },
      "source": [
        "Clean up the categories column to tag products in a normalized manner"
      ]
    },
    {
      "cell_type": "code",
      "execution_count": 46,
      "metadata": {
        "id": "PuC0S45AoPtu"
      },
      "outputs": [],
      "source": [
        "data['categories'] = data['categories'].str.lower().str.strip()"
      ]
    },
    {
      "cell_type": "code",
      "execution_count": 47,
      "metadata": {
        "id": "l1Yjp2aYoUey"
      },
      "outputs": [],
      "source": [
        "import re\n",
        "\n",
        "brand_patterns = r\"(all.*?|walmart.*?|target.*?|mazon.co.uk|retail brand.*?|xyz.*?|brand name.*?|see more.*?)(,|$)\"\n",
        "data['categories_clean'] = data['categories'].str.replace(brand_patterns, '', regex=True)\n",
        "data['categories_clean'] = data['categories_clean'].str.replace(r\",+\", \",\", regex=True).str.strip(\", \")\n"
      ]
    },
    {
      "cell_type": "code",
      "execution_count": 48,
      "metadata": {
        "id": "cUen9O1spLqI"
      },
      "outputs": [],
      "source": [
        "categories = set()\n",
        "for category in data['categories_clean']:\n",
        "    categories.update(category.split(','))"
      ]
    },
    {
      "cell_type": "code",
      "execution_count": 49,
      "metadata": {
        "colab": {
          "base_uri": "https://localhost:8080/"
        },
        "id": "1gtzlwXppm_5",
        "outputId": "0c2bda3b-409d-460d-e17c-3674459ba7e8"
      },
      "outputs": [
        {
          "data": {
            "text/plain": [
              "{'',\n",
              " ' audio player accessories',\n",
              " ' garage & office',\n",
              " ' movies',\n",
              " ' music',\n",
              " ' tech toys',\n",
              " ' wi-fi  3g (unlocked...',\n",
              " 'alarms & sensors',\n",
              " 'android tablets',\n",
              " 'audio',\n",
              " 'audio docks & mini speakers',\n",
              " 'book accessories',\n",
              " 'books & magazines',\n",
              " 'cases & bags',\n",
              " 'categories',\n",
              " 'clearance',\n",
              " 'computer accessories',\n",
              " 'computer components',\n",
              " 'computers',\n",
              " 'computers & laptops',\n",
              " 'computers & tablets',\n",
              " 'computers/tablets & networking',\n",
              " 'consumer electronics',\n",
              " 'covers',\n",
              " 'e-readers',\n",
              " 'e-readers & accessories',\n",
              " 'ebook readers',\n",
              " 'ebook readers & accessories',\n",
              " 'electronics',\n",
              " 'electronics features',\n",
              " 'ereaders',\n",
              " 'ereaders & accessories',\n",
              " 'featured brands',\n",
              " 'frys',\n",
              " 'hard drives & storage',\n",
              " 'holiday shop',\n",
              " 'home',\n",
              " 'home & furniture clearance',\n",
              " 'home automation',\n",
              " 'home improvement',\n",
              " 'home safety & security',\n",
              " 'home security',\n",
              " 'ipad & tablets',\n",
              " 'ipads tablets',\n",
              " 'ipod',\n",
              " \"kids' tablets\",\n",
              " 'kitchen & dining features',\n",
              " 'office',\n",
              " 'office electronics',\n",
              " 'pocketbook touch hd 3 e-reader accessories',\n",
              " 'pocketbook touch hd 3 paperwhite accessories',\n",
              " 'pocketbook touch hd 3 store',\n",
              " 'portable audio & headphones',\n",
              " 'power adapters',\n",
              " 'power adapters & cables',\n",
              " 'remote controls',\n",
              " 'smart home',\n",
              " 'smart home & connected living',\n",
              " 'smart home & home automation devices',\n",
              " 'smart hubs',\n",
              " 'smart hubs & wireless routers',\n",
              " 'software & books',\n",
              " 'speaker systems',\n",
              " 'stereos',\n",
              " 'streaming media players',\n",
              " 'surveillance',\n",
              " 'tablet accessories',\n",
              " 'tablet cases covers',\n",
              " 'tablets',\n",
              " 'tablets & ebook readers',\n",
              " 'tablets & ereaders',\n",
              " 'top rated',\n",
              " 'tvs & electronics',\n",
              " 'tvs entertainment',\n",
              " 'used:computers accessories',\n",
              " 'used:tablets',\n",
              " 'virtual assistant speakers',\n",
              " 'voice assistants',\n",
              " 'voice-enabled smart assistants',\n",
              " 'windows tablets',\n",
              " 'wireless speakers'}"
            ]
          },
          "execution_count": 49,
          "metadata": {},
          "output_type": "execute_result"
        }
      ],
      "source": [
        "categories"
      ]
    },
    {
      "cell_type": "code",
      "execution_count": 50,
      "metadata": {
        "colab": {
          "base_uri": "https://localhost:8080/",
          "height": 458
        },
        "id": "hkPp25E_poOW",
        "outputId": "b9007563-98d9-4e5b-a804-cb7309adaf10"
      },
      "outputs": [
        {
          "data": {
            "text/plain": [
              "0        [electronics, ipad & tablets, tablets, compute...\n",
              "1        [electronics, ipad & tablets, tablets, compute...\n",
              "2        [electronics, ipad & tablets, tablets, compute...\n",
              "3        [electronics, ipad & tablets, tablets, compute...\n",
              "4        [electronics, ipad & tablets, tablets, compute...\n",
              "                               ...                        \n",
              "27895    [stereos, remote controls, audio docks & mini ...\n",
              "27896    [stereos, remote controls, audio docks & mini ...\n",
              "27897    [stereos, remote controls, audio docks & mini ...\n",
              "27898    [stereos, remote controls, audio docks & mini ...\n",
              "27899    [stereos, remote controls, audio docks & mini ...\n",
              "Name: category_list, Length: 27898, dtype: object"
            ]
          },
          "execution_count": 50,
          "metadata": {},
          "output_type": "execute_result"
        }
      ],
      "source": [
        "data['category_list'] = data['categories_clean'].str.split(',')\n",
        "data['category_list']"
      ]
    },
    {
      "cell_type": "code",
      "execution_count": 51,
      "metadata": {
        "id": "q_mjFEWTqyBg"
      },
      "outputs": [],
      "source": [
        "# Define mapping from noisy tags to normalized taxonomy terms\n",
        "normalization_map = {\n",
        "    'ipad & tablets': 'tablets',\n",
        "    'ipads tablets': 'tablets',\n",
        "    'all tablets': 'tablets',\n",
        "    'xyz brand tablets': 'tablets',\n",
        "    'android tablets': 'tablets',\n",
        "    'windows tablets': 'tablets',\n",
        "    'tablets & ebook readers': 'tablets',\n",
        "    'tablets & ereaders': 'tablets',\n",
        "    'kids\\' tablets': 'tablets',\n",
        "\n",
        "    'e-readers': 'ereaders',\n",
        "    'ebook readers': 'ereaders',\n",
        "    'ebook readers & accessories': 'ereaders',\n",
        "    'e-readers & accessories': 'ereaders',\n",
        "    'ereaders & accessories': 'ereaders',\n",
        "    'brand name e-readers': 'ereaders',\n",
        "\n",
        "    'computers/tablets & networking': 'computers & tablets',\n",
        "    'computers & laptops': 'computers & tablets',\n",
        "\n",
        "    'audio docks & mini speakers': 'audio',\n",
        "    'speaker systems': 'audio',\n",
        "    'portable audio & headphones': 'audio',\n",
        "    'audio player accessories': 'audio',\n",
        "\n",
        "    'smart home & connected living': 'smart home',\n",
        "    'smart home & home automation devices': 'smart home',\n",
        "    'home safety & security': 'smart home',\n",
        "    'smart hubs & wireless routers': 'smart home',\n",
        "    'voice-enabled smart assistants': 'smart home',\n",
        "    'voice assistants': 'smart home',\n",
        "    'virtual assistant speakers': 'smart home',\n",
        "    'alarms & sensors': 'smart home',\n",
        "\n",
        "    'cases & bags': 'accessories',\n",
        "    'tablet accessories': 'accessories',\n",
        "    'tablet cases covers': 'accessories',\n",
        "    'power adapters': 'accessories',\n",
        "    'power adapters & cables': 'accessories',\n",
        "    'computer accessories': 'accessories',\n",
        "    'covers': 'accessories',\n",
        "\n",
        "    'brand name e-reader accessories': 'accessories',\n",
        "    'brand name paperwhite accessories': 'accessories',\n",
        "    'brand name touch (4th generation) accessories': 'accessories',\n",
        "    'brand name touch (4th generation) covers': 'accessories',\n",
        "    'brand name (5th generation) accessories': 'accessories',\n",
        "    'brand name (5th generation) covers': 'accessories',\n",
        "\n",
        "    'books & magazines': 'media',\n",
        "    'software & books': 'media',\n",
        "    'book accessories': 'media',\n",
        "    'movies': 'media',\n",
        "    'music': 'media',\n",
        "\n",
        "    'walmart for business': 'retail',\n",
        "    'top rated': 'retail',\n",
        "    'clearance': 'retail',\n",
        "    'frys': 'retail',\n",
        "    'categories': 'retail',\n",
        "    'featured brands': 'retail',\n",
        "}\n"
      ]
    },
    {
      "cell_type": "code",
      "execution_count": 52,
      "metadata": {
        "id": "QZUjiIxQ6UFf"
      },
      "outputs": [],
      "source": [
        "def normalize_category_list(cat_list, norm_map):\n",
        "    normalized = []\n",
        "    for cat in cat_list:\n",
        "        key = cat.strip().lower()\n",
        "        if key in norm_map:\n",
        "            mapped = norm_map[key]\n",
        "            if mapped not in normalized:\n",
        "                normalized.append(mapped)\n",
        "        else:\n",
        "            if key not in normalized:\n",
        "                normalized.append(key)\n",
        "    return normalized\n"
      ]
    },
    {
      "cell_type": "code",
      "execution_count": 53,
      "metadata": {
        "colab": {
          "base_uri": "https://localhost:8080/",
          "height": 458
        },
        "id": "lzQfx00hXrn2",
        "outputId": "58e3fcce-371f-4935-9cf9-4dc31ca9858f"
      },
      "outputs": [
        {
          "data": {
            "text/plain": [
              "0        [electronics, ipad & tablets, tablets, compute...\n",
              "1        [electronics, ipad & tablets, tablets, compute...\n",
              "2        [electronics, ipad & tablets, tablets, compute...\n",
              "3        [electronics, ipad & tablets, tablets, compute...\n",
              "4        [electronics, ipad & tablets, tablets, compute...\n",
              "                               ...                        \n",
              "27895    [stereos, remote controls, audio docks & mini ...\n",
              "27896    [stereos, remote controls, audio docks & mini ...\n",
              "27897    [stereos, remote controls, audio docks & mini ...\n",
              "27898    [stereos, remote controls, audio docks & mini ...\n",
              "27899    [stereos, remote controls, audio docks & mini ...\n",
              "Name: category_list, Length: 27898, dtype: object"
            ]
          },
          "execution_count": 53,
          "metadata": {},
          "output_type": "execute_result"
        }
      ],
      "source": [
        "data['category_list']"
      ]
    },
    {
      "cell_type": "code",
      "execution_count": 54,
      "metadata": {
        "id": "oi-4kQ_l6aLt"
      },
      "outputs": [],
      "source": [
        "data['normalized_categories'] = data['category_list'].apply(\n",
        "    lambda x: normalize_category_list(x, normalization_map)\n",
        ")"
      ]
    },
    {
      "cell_type": "code",
      "execution_count": 55,
      "metadata": {
        "colab": {
          "base_uri": "https://localhost:8080/",
          "height": 458
        },
        "id": "A7EtxNdt62U1",
        "outputId": "f0038d8c-9c84-4ac7-d477-f1b1113b1bed"
      },
      "outputs": [
        {
          "data": {
            "text/plain": [
              "0              [electronics, tablets, computers & tablets]\n",
              "1              [electronics, tablets, computers & tablets]\n",
              "2              [electronics, tablets, computers & tablets]\n",
              "3              [electronics, tablets, computers & tablets]\n",
              "4              [electronics, tablets, computers & tablets]\n",
              "                               ...                        \n",
              "27895    [stereos, remote controls, audio, kitchen & di...\n",
              "27896    [stereos, remote controls, audio, kitchen & di...\n",
              "27897    [stereos, remote controls, audio, kitchen & di...\n",
              "27898    [stereos, remote controls, audio, kitchen & di...\n",
              "27899    [stereos, remote controls, audio, kitchen & di...\n",
              "Name: normalized_categories, Length: 27898, dtype: object"
            ]
          },
          "execution_count": 55,
          "metadata": {},
          "output_type": "execute_result"
        }
      ],
      "source": [
        "data['normalized_categories']"
      ]
    },
    {
      "cell_type": "code",
      "execution_count": 56,
      "metadata": {
        "id": "DxPS49sBPoQE"
      },
      "outputs": [],
      "source": [
        "data.drop(['categories', 'categories_clean', 'category_list'], axis=1, inplace=True)"
      ]
    },
    {
      "cell_type": "code",
      "execution_count": 57,
      "metadata": {
        "colab": {
          "base_uri": "https://localhost:8080/"
        },
        "id": "hjW3s3odP2F0",
        "outputId": "e4d1a3a9-9ab8-43da-e7f4-683e379d65c4"
      },
      "outputs": [
        {
          "name": "stdout",
          "output_type": "stream",
          "text": [
            "<class 'pandas.core.frame.DataFrame'>\n",
            "Index: 27898 entries, 0 to 27899\n",
            "Data columns (total 7 columns):\n",
            " #   Column                 Non-Null Count  Dtype  \n",
            "---  ------                 --------------  -----  \n",
            " 0   product                27898 non-null  object \n",
            " 1   doRecommend            27898 non-null  float64\n",
            " 2   rating                 27898 non-null  float64\n",
            " 3   reviews                27898 non-null  object \n",
            " 4   title                  27898 non-null  object \n",
            " 5   feedback               27898 non-null  object \n",
            " 6   normalized_categories  27898 non-null  object \n",
            "dtypes: float64(2), object(5)\n",
            "memory usage: 1.7+ MB\n"
          ]
        }
      ],
      "source": [
        "data.info()"
      ]
    },
    {
      "cell_type": "markdown",
      "metadata": {
        "id": "3T0Gb9caWnC3"
      },
      "source": [
        "Combine categories for same products"
      ]
    },
    {
      "cell_type": "code",
      "execution_count": 58,
      "metadata": {
        "id": "zsjiQQSxZMXg"
      },
      "outputs": [],
      "source": [
        "def merge_categories(series_of_lists):\n",
        "    all_tags = set()\n",
        "    for tags in series_of_lists:\n",
        "        all_tags.update(tags)\n",
        "    return list(all_tags)"
      ]
    },
    {
      "cell_type": "code",
      "execution_count": 59,
      "metadata": {
        "id": "X0QCLo6TWmuM"
      },
      "outputs": [],
      "source": [
        "# Step 1: Group by product, merge categories\n",
        "merged = data.groupby('product').agg({\n",
        "    'normalized_categories': merge_categories\n",
        "}).reset_index()\n",
        "\n",
        "# Step 2: Merge back to the original data on 'product'\n",
        "data = data.drop('normalized_categories', axis=1).merge(merged, on='product', how='left')"
      ]
    },
    {
      "cell_type": "markdown",
      "metadata": {
        "id": "2NcqPh-4-Fdh"
      },
      "source": [
        "# Sentiment Analysis of Feedback Column"
      ]
    },
    {
      "cell_type": "code",
      "execution_count": null,
      "metadata": {
        "id": "0sKVKZj5-Hy9"
      },
      "outputs": [],
      "source": [
        "import warnings\n",
        "warnings.filterwarnings('ignore')"
      ]
    },
    {
      "cell_type": "code",
      "execution_count": 63,
      "metadata": {
        "colab": {
          "base_uri": "https://localhost:8080/"
        },
        "id": "bGkR9xXW-Nap",
        "outputId": "213aac97-f565-4e58-b52e-c2a7b58f5d34"
      },
      "outputs": [
        {
          "name": "stderr",
          "output_type": "stream",
          "text": [
            "[nltk_data] Downloading package punkt to /home/shysu/nltk_data...\n",
            "[nltk_data]   Unzipping tokenizers/punkt.zip.\n",
            "[nltk_data] Downloading package stopwords to /home/shysu/nltk_data...\n",
            "[nltk_data]   Unzipping corpora/stopwords.zip.\n"
          ]
        }
      ],
      "source": [
        "import nltk\n",
        "nltk.download('punkt')\n",
        "nltk.download('stopwords')\n",
        "from nltk.corpus import stopwords"
      ]
    },
    {
      "cell_type": "code",
      "execution_count": 64,
      "metadata": {
        "id": "rLbM_58s-ux7"
      },
      "outputs": [],
      "source": [
        "stp_words=stopwords.words('english')\n",
        "def clean_review(review):\n",
        "  cleanreview=\" \".join(word for word in review.\n",
        "                       split() if word not in stp_words)\n",
        "  return cleanreview\n",
        "\n",
        "data['feedback']=data['feedback'].apply(clean_review)"
      ]
    },
    {
      "cell_type": "code",
      "execution_count": 65,
      "metadata": {
        "id": "srfDtCjd_nOD"
      },
      "outputs": [],
      "source": [
        "from sklearn.feature_extraction.text import TfidfVectorizer\n",
        "from sklearn.linear_model import LogisticRegression"
      ]
    },
    {
      "cell_type": "code",
      "execution_count": 66,
      "metadata": {
        "id": "u9BAoF5v_BML"
      },
      "outputs": [],
      "source": [
        "cv = TfidfVectorizer(max_features=2500)\n",
        "X = cv.fit_transform(data['feedback'] ).toarray()\n",
        "y = data['rating'].apply(lambda x: 1 if x >= 4 else 0)"
      ]
    },
    {
      "cell_type": "code",
      "execution_count": 67,
      "metadata": {
        "id": "sjZnUFT4_S2V"
      },
      "outputs": [],
      "source": [
        "model = LogisticRegression()\n",
        "model.fit(X, y)\n",
        "\n",
        "# Predict sentiment\n",
        "data['pred_sentiment'] = model.predict(X)"
      ]
    },
    {
      "cell_type": "markdown",
      "metadata": {
        "id": "cNUcVhi8_2uE"
      },
      "source": [
        "# Aggregations"
      ]
    },
    {
      "cell_type": "code",
      "execution_count": 68,
      "metadata": {
        "id": "ZTotnrFy_tLF"
      },
      "outputs": [],
      "source": [
        "summary = data.groupby('product').agg({\n",
        "    'rating': ['mean', 'count'],\n",
        "    'pred_sentiment': 'mean',\n",
        "    'doRecommend': 'mean',\n",
        "    'normalized_categories': 'first'\n",
        "}).reset_index()\n",
        "\n",
        "summary.columns = ['product', 'avg_rating', 'review_count', 'pos_sentiment_ratio', 'avg_recommend', 'categories']\n",
        "\n",
        "summary['rank'] = summary['avg_rating']*summary['review_count']*summary['pos_sentiment_ratio']\n",
        "summary = summary.sort_values('rank', ascending=False)"
      ]
    },
    {
      "cell_type": "code",
      "execution_count": 69,
      "metadata": {
        "colab": {
          "base_uri": "https://localhost:8080/",
          "height": 293
        },
        "id": "fCmIXXqdAC24",
        "outputId": "646e5695-185a-4e05-ea6c-36e9c7e9d64e"
      },
      "outputs": [
        {
          "data": {
            "text/html": [
              "<div>\n",
              "<style scoped>\n",
              "    .dataframe tbody tr th:only-of-type {\n",
              "        vertical-align: middle;\n",
              "    }\n",
              "\n",
              "    .dataframe tbody tr th {\n",
              "        vertical-align: top;\n",
              "    }\n",
              "\n",
              "    .dataframe thead th {\n",
              "        text-align: right;\n",
              "    }\n",
              "</style>\n",
              "<table border=\"1\" class=\"dataframe\">\n",
              "  <thead>\n",
              "    <tr style=\"text-align: right;\">\n",
              "      <th></th>\n",
              "      <th>product</th>\n",
              "      <th>avg_rating</th>\n",
              "      <th>review_count</th>\n",
              "      <th>pos_sentiment_ratio</th>\n",
              "      <th>avg_recommend</th>\n",
              "      <th>categories</th>\n",
              "      <th>rank</th>\n",
              "    </tr>\n",
              "  </thead>\n",
              "  <tbody>\n",
              "    <tr>\n",
              "      <th>40</th>\n",
              "      <td>tablet 7 display wifi 8 gb  magenta</td>\n",
              "      <td>4.453443</td>\n",
              "      <td>10965</td>\n",
              "      <td>0.967259</td>\n",
              "      <td>0.950570</td>\n",
              "      <td>[computers, computers &amp; tablets, electronics f...</td>\n",
              "      <td>47233.214045</td>\n",
              "    </tr>\n",
              "    <tr>\n",
              "      <th>35</th>\n",
              "      <td>paperwhite  ebook reader  4 gb  6 monochrome p...</td>\n",
              "      <td>4.755038</td>\n",
              "      <td>3176</td>\n",
              "      <td>0.992128</td>\n",
              "      <td>0.979534</td>\n",
              "      <td>[office electronics, computers &amp; tablets, elec...</td>\n",
              "      <td>14983.124055</td>\n",
              "    </tr>\n",
              "    <tr>\n",
              "      <th>41</th>\n",
              "      <td>tablet a 101 tablet 8 hd display wifi 16 gb  m...</td>\n",
              "      <td>4.586709</td>\n",
              "      <td>2814</td>\n",
              "      <td>0.979744</td>\n",
              "      <td>0.963042</td>\n",
              "      <td>[tablets, computers &amp; tablets, electronics]</td>\n",
              "      <td>12645.557569</td>\n",
              "    </tr>\n",
              "    <tr>\n",
              "      <th>53</th>\n",
              "      <td>tv_x000d_ tv</td>\n",
              "      <td>4.650040</td>\n",
              "      <td>2526</td>\n",
              "      <td>0.987332</td>\n",
              "      <td>0.959224</td>\n",
              "      <td>[retail, electronics features, surveillance, w...</td>\n",
              "      <td>11597.198733</td>\n",
              "    </tr>\n",
              "    <tr>\n",
              "      <th>15</th>\n",
              "      <td>electonics brand home_x000d_\\nelectonics brand...</td>\n",
              "      <td>4.693333</td>\n",
              "      <td>2100</td>\n",
              "      <td>0.989048</td>\n",
              "      <td>0.964286</td>\n",
              "      <td>[retail, electronics features, surveillance, w...</td>\n",
              "      <td>9748.053333</td>\n",
              "    </tr>\n",
              "  </tbody>\n",
              "</table>\n",
              "</div>"
            ],
            "text/plain": [
              "                                              product  avg_rating  \\\n",
              "40                tablet 7 display wifi 8 gb  magenta    4.453443   \n",
              "35  paperwhite  ebook reader  4 gb  6 monochrome p...    4.755038   \n",
              "41  tablet a 101 tablet 8 hd display wifi 16 gb  m...    4.586709   \n",
              "53                                       tv_x000d_ tv    4.650040   \n",
              "15  electonics brand home_x000d_\\nelectonics brand...    4.693333   \n",
              "\n",
              "    review_count  pos_sentiment_ratio  avg_recommend  \\\n",
              "40         10965             0.967259       0.950570   \n",
              "35          3176             0.992128       0.979534   \n",
              "41          2814             0.979744       0.963042   \n",
              "53          2526             0.987332       0.959224   \n",
              "15          2100             0.989048       0.964286   \n",
              "\n",
              "                                           categories          rank  \n",
              "40  [computers, computers & tablets, electronics f...  47233.214045  \n",
              "35  [office electronics, computers & tablets, elec...  14983.124055  \n",
              "41        [tablets, computers & tablets, electronics]  12645.557569  \n",
              "53  [retail, electronics features, surveillance, w...  11597.198733  \n",
              "15  [retail, electronics features, surveillance, w...   9748.053333  "
            ]
          },
          "execution_count": 69,
          "metadata": {},
          "output_type": "execute_result"
        }
      ],
      "source": [
        "summary.head()"
      ]
    },
    {
      "cell_type": "code",
      "execution_count": 70,
      "metadata": {
        "id": "F_Ykl2Hq_5Kk"
      },
      "outputs": [],
      "source": [
        "def expand_rows(df):\n",
        "    return df.explode('categories')\n",
        "\n",
        "category_summary = expand_rows(summary)\n",
        "\n",
        "top_per_category = category_summary.sort_values(['categories', 'rank'], ascending=False)\n",
        "top_5 = top_per_category.groupby('categories').head(5)"
      ]
    },
    {
      "cell_type": "code",
      "execution_count": null,
      "metadata": {
        "colab": {
          "base_uri": "https://localhost:8080/",
          "height": 424
        },
        "id": "61hJIv4jAPzr",
        "outputId": "36344681-ea07-45de-e5ad-ed5a26662c1b"
      },
      "outputs": [
        {
          "data": {
            "application/vnd.google.colaboratory.intrinsic+json": {
              "summary": "{\n  \"name\": \"top_5\",\n  \"rows\": 168,\n  \"fields\": [\n    {\n      \"column\": \"product\",\n      \"properties\": {\n        \"dtype\": \"category\",\n        \"num_unique_values\": 21,\n        \"samples\": [\n          \"tv tv\",\n          \"kids edition tablet 7 display wifi 16 gb green kidproof case\",\n          \"hd 8 tablet with alexa 8 hd display 16 gb tangerine\"\n        ],\n        \"semantic_type\": \"\",\n        \"description\": \"\"\n      }\n    },\n    {\n      \"column\": \"avg_rating\",\n      \"properties\": {\n        \"dtype\": \"number\",\n        \"std\": 0.11007837803769498,\n        \"min\": 4.429245283018868,\n        \"max\": 4.888888888888889,\n        \"num_unique_values\": 21,\n        \"samples\": [\n          4.6501780767708745,\n          4.510385756676558,\n          4.666666666666667\n        ],\n        \"semantic_type\": \"\",\n        \"description\": \"\"\n      }\n    },\n    {\n      \"column\": \"review_count\",\n      \"properties\": {\n        \"dtype\": \"number\",\n        \"std\": 2612,\n        \"min\": 2,\n        \"max\": 10965,\n        \"num_unique_values\": 21,\n        \"samples\": [\n          2527,\n          1685,\n          6\n        ],\n        \"semantic_type\": \"\",\n        \"description\": \"\"\n      }\n    },\n    {\n      \"column\": \"pos_sentiment_ratio\",\n      \"properties\": {\n        \"dtype\": \"number\",\n        \"std\": 0.01167669497467657,\n        \"min\": 0.9481132075471698,\n        \"max\": 1.0,\n        \"num_unique_values\": 16,\n        \"samples\": [\n          0.9873367629600317,\n          0.9890476190476191,\n          0.9913793103448276\n        ],\n        \"semantic_type\": \"\",\n        \"description\": \"\"\n      }\n    },\n    {\n      \"column\": \"avg_recommend\",\n      \"properties\": {\n        \"dtype\": \"number\",\n        \"std\": 0.03756199226101633,\n        \"min\": 0.8490566037735849,\n        \"max\": 1.0,\n        \"num_unique_values\": 18,\n        \"samples\": [\n          0.9592402057776019,\n          0.9642857142857143,\n          0.9666666666666667\n        ],\n        \"semantic_type\": \"\",\n        \"description\": \"\"\n      }\n    },\n    {\n      \"column\": \"categories\",\n      \"properties\": {\n        \"dtype\": \"category\",\n        \"num_unique_values\": 41,\n        \"samples\": [\n          \"home improvement\",\n          \"retail\",\n          \"surveillance\"\n        ],\n        \"semantic_type\": \"\",\n        \"description\": \"\"\n      }\n    },\n    {\n      \"column\": \"rank\",\n      \"properties\": {\n        \"dtype\": \"number\",\n        \"std\": 11306.824596678729,\n        \"min\": 9.0,\n        \"max\": 47228.760601915186,\n        \"num_unique_values\": 21,\n        \"samples\": [\n          11602.194301543332,\n          7338.39762611276,\n          28.0\n        ],\n        \"semantic_type\": \"\",\n        \"description\": \"\"\n      }\n    }\n  ]\n}",
              "type": "dataframe",
              "variable_name": "top_5"
            },
            "text/html": [
              "\n",
              "  <div id=\"df-4d551070-ff43-42ed-a024-0105163c048b\" class=\"colab-df-container\">\n",
              "    <div>\n",
              "<style scoped>\n",
              "    .dataframe tbody tr th:only-of-type {\n",
              "        vertical-align: middle;\n",
              "    }\n",
              "\n",
              "    .dataframe tbody tr th {\n",
              "        vertical-align: top;\n",
              "    }\n",
              "\n",
              "    .dataframe thead th {\n",
              "        text-align: right;\n",
              "    }\n",
              "</style>\n",
              "<table border=\"1\" class=\"dataframe\">\n",
              "  <thead>\n",
              "    <tr style=\"text-align: right;\">\n",
              "      <th></th>\n",
              "      <th>product</th>\n",
              "      <th>avg_rating</th>\n",
              "      <th>review_count</th>\n",
              "      <th>pos_sentiment_ratio</th>\n",
              "      <th>avg_recommend</th>\n",
              "      <th>categories</th>\n",
              "      <th>rank</th>\n",
              "    </tr>\n",
              "  </thead>\n",
              "  <tbody>\n",
              "    <tr>\n",
              "      <th>43</th>\n",
              "      <td>tv tv</td>\n",
              "      <td>4.650178</td>\n",
              "      <td>2527</td>\n",
              "      <td>0.987337</td>\n",
              "      <td>0.959240</td>\n",
              "      <td>wireless speakers</td>\n",
              "      <td>11602.194302</td>\n",
              "    </tr>\n",
              "    <tr>\n",
              "      <th>11</th>\n",
              "      <td>electonics brand home\\nelectonics brand home</td>\n",
              "      <td>4.693333</td>\n",
              "      <td>2100</td>\n",
              "      <td>0.989048</td>\n",
              "      <td>0.964286</td>\n",
              "      <td>wireless speakers</td>\n",
              "      <td>9748.053333</td>\n",
              "    </tr>\n",
              "    <tr>\n",
              "      <th>10</th>\n",
              "      <td>electonics brand home</td>\n",
              "      <td>4.563531</td>\n",
              "      <td>1212</td>\n",
              "      <td>0.977723</td>\n",
              "      <td>0.954620</td>\n",
              "      <td>wireless speakers</td>\n",
              "      <td>5407.784653</td>\n",
              "    </tr>\n",
              "    <tr>\n",
              "      <th>37</th>\n",
              "      <td>tap portable bluetooth and wifi speaker  black...</td>\n",
              "      <td>4.729560</td>\n",
              "      <td>318</td>\n",
              "      <td>0.993711</td>\n",
              "      <td>0.974843</td>\n",
              "      <td>wireless speakers</td>\n",
              "      <td>1494.540881</td>\n",
              "    </tr>\n",
              "    <tr>\n",
              "      <th>2</th>\n",
              "      <td>5w usb charger and power adapter for tablets a...</td>\n",
              "      <td>4.458937</td>\n",
              "      <td>207</td>\n",
              "      <td>0.971014</td>\n",
              "      <td>0.864734</td>\n",
              "      <td>wireless speakers</td>\n",
              "      <td>896.246377</td>\n",
              "    </tr>\n",
              "    <tr>\n",
              "      <th>...</th>\n",
              "      <td>...</td>\n",
              "      <td>...</td>\n",
              "      <td>...</td>\n",
              "      <td>...</td>\n",
              "      <td>...</td>\n",
              "      <td>...</td>\n",
              "      <td>...</td>\n",
              "    </tr>\n",
              "    <tr>\n",
              "      <th>6</th>\n",
              "      <td>brand ipad16gb 7 ips display tablet wifi 16 gb...</td>\n",
              "      <td>4.552987</td>\n",
              "      <td>1038</td>\n",
              "      <td>0.967245</td>\n",
              "      <td>0.961464</td>\n",
              "      <td>accessories</td>\n",
              "      <td>4571.198459</td>\n",
              "    </tr>\n",
              "    <tr>\n",
              "      <th>33</th>\n",
              "      <td>tablet 7 display wifi 8 gb  black</td>\n",
              "      <td>4.604839</td>\n",
              "      <td>372</td>\n",
              "      <td>0.970430</td>\n",
              "      <td>0.951613</td>\n",
              "      <td>accessories</td>\n",
              "      <td>1662.346774</td>\n",
              "    </tr>\n",
              "    <tr>\n",
              "      <th>2</th>\n",
              "      <td>5w usb charger and power adapter for tablets a...</td>\n",
              "      <td>4.458937</td>\n",
              "      <td>207</td>\n",
              "      <td>0.971014</td>\n",
              "      <td>0.864734</td>\n",
              "      <td>accessories</td>\n",
              "      <td>896.246377</td>\n",
              "    </tr>\n",
              "    <tr>\n",
              "      <th>5</th>\n",
              "      <td>all pocketbook touch hd 3 ereader  black 6 gla...</td>\n",
              "      <td>4.429245</td>\n",
              "      <td>212</td>\n",
              "      <td>0.948113</td>\n",
              "      <td>0.849057</td>\n",
              "      <td>accessories</td>\n",
              "      <td>890.278302</td>\n",
              "    </tr>\n",
              "    <tr>\n",
              "      <th>33</th>\n",
              "      <td>tablet 7 display wifi 8 gb  black</td>\n",
              "      <td>4.604839</td>\n",
              "      <td>372</td>\n",
              "      <td>0.970430</td>\n",
              "      <td>0.951613</td>\n",
              "      <td></td>\n",
              "      <td>1662.346774</td>\n",
              "    </tr>\n",
              "  </tbody>\n",
              "</table>\n",
              "<p>168 rows × 7 columns</p>\n",
              "</div>\n",
              "    <div class=\"colab-df-buttons\">\n",
              "\n",
              "  <div class=\"colab-df-container\">\n",
              "    <button class=\"colab-df-convert\" onclick=\"convertToInteractive('df-4d551070-ff43-42ed-a024-0105163c048b')\"\n",
              "            title=\"Convert this dataframe to an interactive table.\"\n",
              "            style=\"display:none;\">\n",
              "\n",
              "  <svg xmlns=\"http://www.w3.org/2000/svg\" height=\"24px\" viewBox=\"0 -960 960 960\">\n",
              "    <path d=\"M120-120v-720h720v720H120Zm60-500h600v-160H180v160Zm220 220h160v-160H400v160Zm0 220h160v-160H400v160ZM180-400h160v-160H180v160Zm440 0h160v-160H620v160ZM180-180h160v-160H180v160Zm440 0h160v-160H620v160Z\"/>\n",
              "  </svg>\n",
              "    </button>\n",
              "\n",
              "  <style>\n",
              "    .colab-df-container {\n",
              "      display:flex;\n",
              "      gap: 12px;\n",
              "    }\n",
              "\n",
              "    .colab-df-convert {\n",
              "      background-color: #E8F0FE;\n",
              "      border: none;\n",
              "      border-radius: 50%;\n",
              "      cursor: pointer;\n",
              "      display: none;\n",
              "      fill: #1967D2;\n",
              "      height: 32px;\n",
              "      padding: 0 0 0 0;\n",
              "      width: 32px;\n",
              "    }\n",
              "\n",
              "    .colab-df-convert:hover {\n",
              "      background-color: #E2EBFA;\n",
              "      box-shadow: 0px 1px 2px rgba(60, 64, 67, 0.3), 0px 1px 3px 1px rgba(60, 64, 67, 0.15);\n",
              "      fill: #174EA6;\n",
              "    }\n",
              "\n",
              "    .colab-df-buttons div {\n",
              "      margin-bottom: 4px;\n",
              "    }\n",
              "\n",
              "    [theme=dark] .colab-df-convert {\n",
              "      background-color: #3B4455;\n",
              "      fill: #D2E3FC;\n",
              "    }\n",
              "\n",
              "    [theme=dark] .colab-df-convert:hover {\n",
              "      background-color: #434B5C;\n",
              "      box-shadow: 0px 1px 3px 1px rgba(0, 0, 0, 0.15);\n",
              "      filter: drop-shadow(0px 1px 2px rgba(0, 0, 0, 0.3));\n",
              "      fill: #FFFFFF;\n",
              "    }\n",
              "  </style>\n",
              "\n",
              "    <script>\n",
              "      const buttonEl =\n",
              "        document.querySelector('#df-4d551070-ff43-42ed-a024-0105163c048b button.colab-df-convert');\n",
              "      buttonEl.style.display =\n",
              "        google.colab.kernel.accessAllowed ? 'block' : 'none';\n",
              "\n",
              "      async function convertToInteractive(key) {\n",
              "        const element = document.querySelector('#df-4d551070-ff43-42ed-a024-0105163c048b');\n",
              "        const dataTable =\n",
              "          await google.colab.kernel.invokeFunction('convertToInteractive',\n",
              "                                                    [key], {});\n",
              "        if (!dataTable) return;\n",
              "\n",
              "        const docLinkHtml = 'Like what you see? Visit the ' +\n",
              "          '<a target=\"_blank\" href=https://colab.research.google.com/notebooks/data_table.ipynb>data table notebook</a>'\n",
              "          + ' to learn more about interactive tables.';\n",
              "        element.innerHTML = '';\n",
              "        dataTable['output_type'] = 'display_data';\n",
              "        await google.colab.output.renderOutput(dataTable, element);\n",
              "        const docLink = document.createElement('div');\n",
              "        docLink.innerHTML = docLinkHtml;\n",
              "        element.appendChild(docLink);\n",
              "      }\n",
              "    </script>\n",
              "  </div>\n",
              "\n",
              "\n",
              "    <div id=\"df-3c783492-2e85-4859-ba29-1b76c84a8bed\">\n",
              "      <button class=\"colab-df-quickchart\" onclick=\"quickchart('df-3c783492-2e85-4859-ba29-1b76c84a8bed')\"\n",
              "                title=\"Suggest charts\"\n",
              "                style=\"display:none;\">\n",
              "\n",
              "<svg xmlns=\"http://www.w3.org/2000/svg\" height=\"24px\"viewBox=\"0 0 24 24\"\n",
              "     width=\"24px\">\n",
              "    <g>\n",
              "        <path d=\"M19 3H5c-1.1 0-2 .9-2 2v14c0 1.1.9 2 2 2h14c1.1 0 2-.9 2-2V5c0-1.1-.9-2-2-2zM9 17H7v-7h2v7zm4 0h-2V7h2v10zm4 0h-2v-4h2v4z\"/>\n",
              "    </g>\n",
              "</svg>\n",
              "      </button>\n",
              "\n",
              "<style>\n",
              "  .colab-df-quickchart {\n",
              "      --bg-color: #E8F0FE;\n",
              "      --fill-color: #1967D2;\n",
              "      --hover-bg-color: #E2EBFA;\n",
              "      --hover-fill-color: #174EA6;\n",
              "      --disabled-fill-color: #AAA;\n",
              "      --disabled-bg-color: #DDD;\n",
              "  }\n",
              "\n",
              "  [theme=dark] .colab-df-quickchart {\n",
              "      --bg-color: #3B4455;\n",
              "      --fill-color: #D2E3FC;\n",
              "      --hover-bg-color: #434B5C;\n",
              "      --hover-fill-color: #FFFFFF;\n",
              "      --disabled-bg-color: #3B4455;\n",
              "      --disabled-fill-color: #666;\n",
              "  }\n",
              "\n",
              "  .colab-df-quickchart {\n",
              "    background-color: var(--bg-color);\n",
              "    border: none;\n",
              "    border-radius: 50%;\n",
              "    cursor: pointer;\n",
              "    display: none;\n",
              "    fill: var(--fill-color);\n",
              "    height: 32px;\n",
              "    padding: 0;\n",
              "    width: 32px;\n",
              "  }\n",
              "\n",
              "  .colab-df-quickchart:hover {\n",
              "    background-color: var(--hover-bg-color);\n",
              "    box-shadow: 0 1px 2px rgba(60, 64, 67, 0.3), 0 1px 3px 1px rgba(60, 64, 67, 0.15);\n",
              "    fill: var(--button-hover-fill-color);\n",
              "  }\n",
              "\n",
              "  .colab-df-quickchart-complete:disabled,\n",
              "  .colab-df-quickchart-complete:disabled:hover {\n",
              "    background-color: var(--disabled-bg-color);\n",
              "    fill: var(--disabled-fill-color);\n",
              "    box-shadow: none;\n",
              "  }\n",
              "\n",
              "  .colab-df-spinner {\n",
              "    border: 2px solid var(--fill-color);\n",
              "    border-color: transparent;\n",
              "    border-bottom-color: var(--fill-color);\n",
              "    animation:\n",
              "      spin 1s steps(1) infinite;\n",
              "  }\n",
              "\n",
              "  @keyframes spin {\n",
              "    0% {\n",
              "      border-color: transparent;\n",
              "      border-bottom-color: var(--fill-color);\n",
              "      border-left-color: var(--fill-color);\n",
              "    }\n",
              "    20% {\n",
              "      border-color: transparent;\n",
              "      border-left-color: var(--fill-color);\n",
              "      border-top-color: var(--fill-color);\n",
              "    }\n",
              "    30% {\n",
              "      border-color: transparent;\n",
              "      border-left-color: var(--fill-color);\n",
              "      border-top-color: var(--fill-color);\n",
              "      border-right-color: var(--fill-color);\n",
              "    }\n",
              "    40% {\n",
              "      border-color: transparent;\n",
              "      border-right-color: var(--fill-color);\n",
              "      border-top-color: var(--fill-color);\n",
              "    }\n",
              "    60% {\n",
              "      border-color: transparent;\n",
              "      border-right-color: var(--fill-color);\n",
              "    }\n",
              "    80% {\n",
              "      border-color: transparent;\n",
              "      border-right-color: var(--fill-color);\n",
              "      border-bottom-color: var(--fill-color);\n",
              "    }\n",
              "    90% {\n",
              "      border-color: transparent;\n",
              "      border-bottom-color: var(--fill-color);\n",
              "    }\n",
              "  }\n",
              "</style>\n",
              "\n",
              "      <script>\n",
              "        async function quickchart(key) {\n",
              "          const quickchartButtonEl =\n",
              "            document.querySelector('#' + key + ' button');\n",
              "          quickchartButtonEl.disabled = true;  // To prevent multiple clicks.\n",
              "          quickchartButtonEl.classList.add('colab-df-spinner');\n",
              "          try {\n",
              "            const charts = await google.colab.kernel.invokeFunction(\n",
              "                'suggestCharts', [key], {});\n",
              "          } catch (error) {\n",
              "            console.error('Error during call to suggestCharts:', error);\n",
              "          }\n",
              "          quickchartButtonEl.classList.remove('colab-df-spinner');\n",
              "          quickchartButtonEl.classList.add('colab-df-quickchart-complete');\n",
              "        }\n",
              "        (() => {\n",
              "          let quickchartButtonEl =\n",
              "            document.querySelector('#df-3c783492-2e85-4859-ba29-1b76c84a8bed button');\n",
              "          quickchartButtonEl.style.display =\n",
              "            google.colab.kernel.accessAllowed ? 'block' : 'none';\n",
              "        })();\n",
              "      </script>\n",
              "    </div>\n",
              "\n",
              "  <div id=\"id_0f09b452-6d2a-4643-9f25-676b0fa91016\">\n",
              "    <style>\n",
              "      .colab-df-generate {\n",
              "        background-color: #E8F0FE;\n",
              "        border: none;\n",
              "        border-radius: 50%;\n",
              "        cursor: pointer;\n",
              "        display: none;\n",
              "        fill: #1967D2;\n",
              "        height: 32px;\n",
              "        padding: 0 0 0 0;\n",
              "        width: 32px;\n",
              "      }\n",
              "\n",
              "      .colab-df-generate:hover {\n",
              "        background-color: #E2EBFA;\n",
              "        box-shadow: 0px 1px 2px rgba(60, 64, 67, 0.3), 0px 1px 3px 1px rgba(60, 64, 67, 0.15);\n",
              "        fill: #174EA6;\n",
              "      }\n",
              "\n",
              "      [theme=dark] .colab-df-generate {\n",
              "        background-color: #3B4455;\n",
              "        fill: #D2E3FC;\n",
              "      }\n",
              "\n",
              "      [theme=dark] .colab-df-generate:hover {\n",
              "        background-color: #434B5C;\n",
              "        box-shadow: 0px 1px 3px 1px rgba(0, 0, 0, 0.15);\n",
              "        filter: drop-shadow(0px 1px 2px rgba(0, 0, 0, 0.3));\n",
              "        fill: #FFFFFF;\n",
              "      }\n",
              "    </style>\n",
              "    <button class=\"colab-df-generate\" onclick=\"generateWithVariable('top_5')\"\n",
              "            title=\"Generate code using this dataframe.\"\n",
              "            style=\"display:none;\">\n",
              "\n",
              "  <svg xmlns=\"http://www.w3.org/2000/svg\" height=\"24px\"viewBox=\"0 0 24 24\"\n",
              "       width=\"24px\">\n",
              "    <path d=\"M7,19H8.4L18.45,9,17,7.55,7,17.6ZM5,21V16.75L18.45,3.32a2,2,0,0,1,2.83,0l1.4,1.43a1.91,1.91,0,0,1,.58,1.4,1.91,1.91,0,0,1-.58,1.4L9.25,21ZM18.45,9,17,7.55Zm-12,3A5.31,5.31,0,0,0,4.9,8.1,5.31,5.31,0,0,0,1,6.5,5.31,5.31,0,0,0,4.9,4.9,5.31,5.31,0,0,0,6.5,1,5.31,5.31,0,0,0,8.1,4.9,5.31,5.31,0,0,0,12,6.5,5.46,5.46,0,0,0,6.5,12Z\"/>\n",
              "  </svg>\n",
              "    </button>\n",
              "    <script>\n",
              "      (() => {\n",
              "      const buttonEl =\n",
              "        document.querySelector('#id_0f09b452-6d2a-4643-9f25-676b0fa91016 button.colab-df-generate');\n",
              "      buttonEl.style.display =\n",
              "        google.colab.kernel.accessAllowed ? 'block' : 'none';\n",
              "\n",
              "      buttonEl.onclick = () => {\n",
              "        google.colab.notebook.generateWithVariable('top_5');\n",
              "      }\n",
              "      })();\n",
              "    </script>\n",
              "  </div>\n",
              "\n",
              "    </div>\n",
              "  </div>\n"
            ],
            "text/plain": [
              "                                              product  avg_rating  \\\n",
              "43                                              tv tv    4.650178   \n",
              "11       electonics brand home\\nelectonics brand home    4.693333   \n",
              "10                              electonics brand home    4.563531   \n",
              "37  tap portable bluetooth and wifi speaker  black...    4.729560   \n",
              "2   5w usb charger and power adapter for tablets a...    4.458937   \n",
              "..                                                ...         ...   \n",
              "6   brand ipad16gb 7 ips display tablet wifi 16 gb...    4.552987   \n",
              "33                  tablet 7 display wifi 8 gb  black    4.604839   \n",
              "2   5w usb charger and power adapter for tablets a...    4.458937   \n",
              "5   all pocketbook touch hd 3 ereader  black 6 gla...    4.429245   \n",
              "33                  tablet 7 display wifi 8 gb  black    4.604839   \n",
              "\n",
              "    review_count  pos_sentiment_ratio  avg_recommend         categories  \\\n",
              "43          2527             0.987337       0.959240  wireless speakers   \n",
              "11          2100             0.989048       0.964286  wireless speakers   \n",
              "10          1212             0.977723       0.954620  wireless speakers   \n",
              "37           318             0.993711       0.974843  wireless speakers   \n",
              "2            207             0.971014       0.864734  wireless speakers   \n",
              "..           ...                  ...            ...                ...   \n",
              "6           1038             0.967245       0.961464        accessories   \n",
              "33           372             0.970430       0.951613        accessories   \n",
              "2            207             0.971014       0.864734        accessories   \n",
              "5            212             0.948113       0.849057        accessories   \n",
              "33           372             0.970430       0.951613                      \n",
              "\n",
              "            rank  \n",
              "43  11602.194302  \n",
              "11   9748.053333  \n",
              "10   5407.784653  \n",
              "37   1494.540881  \n",
              "2     896.246377  \n",
              "..           ...  \n",
              "6    4571.198459  \n",
              "33   1662.346774  \n",
              "2     896.246377  \n",
              "5     890.278302  \n",
              "33   1662.346774  \n",
              "\n",
              "[168 rows x 7 columns]"
            ]
          },
          "execution_count": 439,
          "metadata": {},
          "output_type": "execute_result"
        }
      ],
      "source": [
        "top_5"
      ]
    },
    {
      "cell_type": "code",
      "execution_count": null,
      "metadata": {
        "id": "ZB1qsruTBGx1"
      },
      "outputs": [],
      "source": [
        "top_5_grouped = top_5.groupby('product').agg({\n",
        "    'categories': lambda x: list(set(x)),\n",
        "    'avg_rating': 'first',\n",
        "    'pos_sentiment_ratio': 'first',\n",
        "    'avg_recommend': 'first',\n",
        "    'review_count': 'first',\n",
        "    'rank': 'first'\n",
        "}).reset_index()"
      ]
    },
    {
      "cell_type": "code",
      "execution_count": null,
      "metadata": {
        "id": "XX9H5s4ODK6K"
      },
      "outputs": [],
      "source": [
        "top_5_grouped = top_5_grouped.sort_values('rank', ascending=False)"
      ]
    },
    {
      "cell_type": "code",
      "execution_count": null,
      "metadata": {
        "colab": {
          "base_uri": "https://localhost:8080/"
        },
        "id": "Kxyu3KNJaCet",
        "outputId": "bc1ba127-b454-4818-8920-5126b5fac879"
      },
      "outputs": [
        {
          "data": {
            "text/plain": [
              "(21, 7)"
            ]
          },
          "execution_count": 451,
          "metadata": {},
          "output_type": "execute_result"
        }
      ],
      "source": [
        "top_5_grouped.shape"
      ]
    },
    {
      "cell_type": "code",
      "execution_count": null,
      "metadata": {
        "id": "IufPFS_4DQn6"
      },
      "outputs": [],
      "source": [
        "top_5_grouped.to_excel('output.xlsx', index=False)"
      ]
    },
    {
      "cell_type": "code",
      "execution_count": null,
      "metadata": {
        "id": "8RFFyctNUimd"
      },
      "outputs": [],
      "source": []
    }
  ],
  "metadata": {
    "colab": {
      "provenance": []
    },
    "kernelspec": {
      "display_name": "venv",
      "language": "python",
      "name": "python3"
    },
    "language_info": {
      "codemirror_mode": {
        "name": "ipython",
        "version": 3
      },
      "file_extension": ".py",
      "mimetype": "text/x-python",
      "name": "python",
      "nbconvert_exporter": "python",
      "pygments_lexer": "ipython3",
      "version": "3.10.17"
    }
  },
  "nbformat": 4,
  "nbformat_minor": 0
}
