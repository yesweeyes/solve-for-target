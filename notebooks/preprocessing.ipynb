{
 "cells": [
  {
   "cell_type": "code",
   "execution_count": 1,
   "id": "4f572464",
   "metadata": {},
   "outputs": [],
   "source": [
    "import pandas as pd\n",
    "import numpy as np"
   ]
  },
  {
   "cell_type": "code",
   "execution_count": 2,
   "id": "06f16d16",
   "metadata": {},
   "outputs": [],
   "source": [
    "def drop_columns(df: pd.DataFrame, columns: list) -> pd.DataFrame:\n",
    "    \"\"\"\n",
    "    Drop specified columns from the DataFrame.\n",
    "\n",
    "    Parameters:\n",
    "    df (pd.DataFrame): Input DataFrame.\n",
    "    columns (list): List of column names to drop.\n",
    "\n",
    "    Returns:\n",
    "    pd.DataFrame: DataFrame with specified columns dropped.\n",
    "    \"\"\"\n",
    "    return df.drop(columns=columns, errors='ignore')\n"
   ]
  },
  {
   "cell_type": "code",
   "execution_count": 3,
   "id": "cf16de1c",
   "metadata": {},
   "outputs": [],
   "source": [
    "def drop_rows_with_missing_values(df: pd.DataFrame, columns: list) -> pd.DataFrame:\n",
    "    \"\"\"\n",
    "    Drop rows with any missing values from the DataFrame.\n",
    "\n",
    "    Parameters:\n",
    "    df (pd.DataFrame): Input DataFrame.\n",
    "\n",
    "    Returns:\n",
    "    pd.DataFrame: DataFrame with rows containing missing values dropped.\n",
    "    \"\"\"\n",
    "    return df.dropna(subset=columns)\n"
   ]
  },
  {
   "cell_type": "code",
   "execution_count": 4,
   "id": "f8509965",
   "metadata": {},
   "outputs": [],
   "source": [
    "def drop_rows_with_missing_values(df: pd.DataFrame, columns: list) -> pd.DataFrame:\n",
    "    \"\"\"\n",
    "    Drop rows with any missing values from the DataFrame.\n",
    "\n",
    "    Parameters:\n",
    "    df (pd.DataFrame): Input DataFrame.\n",
    "\n",
    "    Returns:\n",
    "    pd.DataFrame: DataFrame with rows containing missing values dropped.\n",
    "    \"\"\"\n",
    "    return df.dropna(subset=columns)\n"
   ]
  },
  {
   "cell_type": "code",
   "execution_count": 5,
   "id": "a62c7343",
   "metadata": {},
   "outputs": [],
   "source": [
    "def handle_missing_doRecommend(df: pd.DataFrame) -> pd.DataFrame:\n",
    "    \"\"\"\n",
    "    Handle missing doRecommend values in the DataFrame by filling them with the mode.\n",
    "\n",
    "    Parameters:\n",
    "    df (pd.DataFrame): Input DataFrame with potential missing doRecommend values.\n",
    "\n",
    "    Returns:\n",
    "    pd.DataFrame: DataFrame with missing doRecommend values filled.\n",
    "    \"\"\"\n",
    "\n",
    "    df.loc[df['doRecommend'].isna(), 'doRecommend'] = np.where(\n",
    "        df.loc[df['doRecommend'].isna(), 'rating'] >= 4, 1, 0\n",
    "    )\n",
    "    \n",
    "    return df\n"
   ]
  },
  {
   "cell_type": "code",
   "execution_count": 6,
   "id": "89462a63",
   "metadata": {},
   "outputs": [],
   "source": [
    "def handle_missing_title(df: pd.DataFrame) -> pd.DataFrame:\n",
    "    \"\"\"\n",
    "    Handle missing titles in the DataFrame by filling them with the product name.\n",
    "\n",
    "    Parameters:\n",
    "    df (pd.DataFrame): Input DataFrame with potential missing titles.\n",
    "\n",
    "    Returns:\n",
    "    pd.DataFrame: DataFrame with missing titles filled.\n",
    "    \"\"\"\n",
    "\n",
    "    df['title'] = df['title'].fillna('(missing title)')\n",
    "    \n",
    "    return df"
   ]
  },
  {
   "cell_type": "code",
   "execution_count": 7,
   "id": "c9e9ca11",
   "metadata": {},
   "outputs": [],
   "source": [
    "def handle_missing_ratings(df: pd.DataFrame) -> pd.DataFrame:\n",
    "    \"\"\"\n",
    "    Handle missing ratings in the DataFrame by filling them with the mean rating.\n",
    "\n",
    "    Parameters:\n",
    "    df (pd.DataFrame): Input DataFrame with potential missing ratings.\n",
    "\n",
    "    Returns:\n",
    "    pd.DataFrame: DataFrame with missing ratings filled.\n",
    "    \"\"\"\n",
    "\n",
    "    products_missing_ratings = df[df['rating'].isnull()]['product'].unique()\n",
    "    for product in products_missing_ratings:\n",
    "        median_rating = df[df['product'] == product]['rating'].median()\n",
    "        df.loc[(df['product'] == product) & (df['rating'].isnull()), 'rating'] = median_rating\n",
    "\n",
    "    return df"
   ]
  },
  {
   "cell_type": "code",
   "execution_count": 8,
   "id": "315a6035",
   "metadata": {},
   "outputs": [],
   "source": [
    "def preprocess_data(df: pd.DataFrame) -> pd.DataFrame:\n",
    "    \"\"\"\n",
    "    Preprocess the input DataFrame by filling missing values and converting data types.\n",
    "\n",
    "    Parameters:\n",
    "    df (pd.DataFrame): Input DataFrame with potential missing values.\n",
    "\n",
    "    Returns:\n",
    "    pd.DataFrame: Preprocessed DataFrame with filled missing values and converted data types.\n",
    "    \"\"\"\n",
    "\n",
    "    df = drop_columns(df, [\"source\", \"date\", \"didPurchase\"])\n",
    "    df = drop_rows_with_missing_values(df, [\"product\", \"categories\", \"reviews\"])\n",
    "    df = handle_missing_ratings(df)\n",
    "    df = handle_missing_doRecommend(df)\n",
    "    df = handle_missing_title(df)\n",
    "    \n",
    "    return df\n"
   ]
  },
  {
   "cell_type": "code",
   "execution_count": 9,
   "id": "78f410b0",
   "metadata": {},
   "outputs": [],
   "source": [
    "data = pd.read_excel(\"../data/data.xlsx\")\n",
    "data = preprocess_data(data)\n",
    "data.to_csv(\"../data/preprocessed_data.csv\", index=False)"
   ]
  }
 ],
 "metadata": {
  "kernelspec": {
   "display_name": "venv",
   "language": "python",
   "name": "python3"
  },
  "language_info": {
   "codemirror_mode": {
    "name": "ipython",
    "version": 3
   },
   "file_extension": ".py",
   "mimetype": "text/x-python",
   "name": "python",
   "nbconvert_exporter": "python",
   "pygments_lexer": "ipython3",
   "version": "3.10.17+"
  }
 },
 "nbformat": 4,
 "nbformat_minor": 5
}
