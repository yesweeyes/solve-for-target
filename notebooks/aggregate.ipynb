{
 "cells": [
  {
   "cell_type": "code",
   "execution_count": 154,
   "id": "1c2647f8",
   "metadata": {},
   "outputs": [],
   "source": [
    "import pandas as pd"
   ]
  },
  {
   "cell_type": "code",
   "execution_count": 155,
   "id": "88580226",
   "metadata": {},
   "outputs": [],
   "source": [
    "data = pd.read_csv('../data/predicted_sentiment.csv') "
   ]
  },
  {
   "cell_type": "code",
   "execution_count": 156,
   "id": "a59d052f",
   "metadata": {},
   "outputs": [
    {
     "data": {
      "text/plain": [
       "Index(['product', 'categories', 'doRecommend', 'rating', 'feedback',\n",
       "       'sentiment', 'predicted_sentiment'],\n",
       "      dtype='object')"
      ]
     },
     "execution_count": 156,
     "metadata": {},
     "output_type": "execute_result"
    }
   ],
   "source": [
    "data.columns"
   ]
  },
  {
   "cell_type": "code",
   "execution_count": 157,
   "id": "bea8e9e3",
   "metadata": {},
   "outputs": [],
   "source": [
    "summary = data.groupby(['product', 'categories']).agg({\n",
    "    'predicted_sentiment': 'mean',\n",
    "    'rating': ['mean', 'count'],\n",
    "    'doRecommend': 'mean',\n",
    "    'feedback': 'first' \n",
    "}).reset_index()"
   ]
  },
  {
   "cell_type": "code",
   "execution_count": 158,
   "id": "97836ae4",
   "metadata": {},
   "outputs": [],
   "source": [
    "summary.columns = [\n",
    "    'product', 'categories',\n",
    "    'avg_sentiment',\n",
    "    'avg_rating', 'rating_count',\n",
    "    'avg_doRecommend', 'sample_feedback'\n",
    "]"
   ]
  },
  {
   "cell_type": "code",
   "execution_count": 159,
   "id": "6069f020",
   "metadata": {},
   "outputs": [],
   "source": [
    "summary['product'] = summary['product'].apply(lambda x: x.title() if isinstance(x, str) else x)"
   ]
  },
  {
   "cell_type": "code",
   "execution_count": 160,
   "id": "75675855",
   "metadata": {},
   "outputs": [],
   "source": [
    "summary['rank'] = summary['avg_sentiment']*summary['rating_count']*summary['avg_rating']"
   ]
  },
  {
   "cell_type": "code",
   "execution_count": 161,
   "id": "059c4c9c",
   "metadata": {},
   "outputs": [],
   "source": [
    "import ast\n",
    "summary['categories'] = summary['categories'].apply(ast.literal_eval)"
   ]
  },
  {
   "cell_type": "code",
   "execution_count": 162,
   "id": "aeb86250",
   "metadata": {},
   "outputs": [],
   "source": [
    "summary.reset_index(drop=True, inplace=True)\n",
    "summary.index.name = 'summary_index'"
   ]
  },
  {
   "cell_type": "code",
   "execution_count": 163,
   "id": "209cecb6",
   "metadata": {},
   "outputs": [],
   "source": [
    "summary.to_csv('../data/summary.csv', index=True)"
   ]
  },
  {
   "cell_type": "code",
   "execution_count": 164,
   "id": "51b59558",
   "metadata": {},
   "outputs": [],
   "source": [
    "summary = summary.explode('categories', ignore_index=False)\n",
    "summary.dropna(subset=['categories'], inplace=True)\n",
    "summary = summary[summary['categories'] != \"\"]"
   ]
  },
  {
   "cell_type": "code",
   "execution_count": 165,
   "id": "a00a9f57",
   "metadata": {},
   "outputs": [],
   "source": [
    "summary.drop_duplicates(subset=['product'], inplace=True)"
   ]
  },
  {
   "cell_type": "code",
   "execution_count": 166,
   "id": "3e19c0b2",
   "metadata": {},
   "outputs": [],
   "source": [
    "top3_per_category = (\n",
    "    summary\n",
    "    .sort_values(['categories', 'rank'], ascending=[True, False])\n",
    "    .groupby('categories')\n",
    "    .head(3)\n",
    ")\n",
    "\n",
    "top3_per_category = (\n",
    "    top3_per_category\n",
    "    .groupby(['product', 'avg_sentiment', 'avg_rating', 'rating_count', 'avg_doRecommend', 'sample_feedback', 'rank'], as_index=False)\n",
    "    .agg({'categories': lambda x: list(x)})\n",
    ")\n",
    "\n",
    "top3_per_category.sort_values('rank', ascending=False, inplace=True)"
   ]
  },
  {
   "cell_type": "code",
   "execution_count": 167,
   "id": "446ab775",
   "metadata": {},
   "outputs": [],
   "source": [
    "top3_per_category.to_csv('../data/output_best_selling.csv', index=False)"
   ]
  },
  {
   "cell_type": "code",
   "execution_count": 168,
   "id": "79fcec31",
   "metadata": {},
   "outputs": [
    {
     "ename": "AttributeError",
     "evalue": "'DataFrameGroupBy' object has no attribute 'drop_duplicates'",
     "output_type": "error",
     "traceback": [
      "\u001b[0;31m---------------------------------------------------------------------------\u001b[0m",
      "\u001b[0;31mAttributeError\u001b[0m                            Traceback (most recent call last)",
      "Cell \u001b[0;32mIn[168], line 6\u001b[0m\n\u001b[1;32m      1\u001b[0m \u001b[38;5;66;03m# Least selling products: sort by 'rating_count' ascending\u001b[39;00m\n\u001b[1;32m      2\u001b[0m least_selling \u001b[38;5;241m=\u001b[39m (\n\u001b[1;32m      3\u001b[0m     \u001b[43msummary\u001b[49m\n\u001b[1;32m      4\u001b[0m \u001b[43m    \u001b[49m\u001b[38;5;241;43m.\u001b[39;49m\u001b[43msort_values\u001b[49m\u001b[43m(\u001b[49m\u001b[38;5;124;43m'\u001b[39;49m\u001b[38;5;124;43mrating_count\u001b[39;49m\u001b[38;5;124;43m'\u001b[39;49m\u001b[43m,\u001b[49m\u001b[43m \u001b[49m\u001b[43mascending\u001b[49m\u001b[38;5;241;43m=\u001b[39;49m\u001b[38;5;28;43;01mTrue\u001b[39;49;00m\u001b[43m)\u001b[49m\n\u001b[1;32m      5\u001b[0m \u001b[43m    \u001b[49m\u001b[38;5;241;43m.\u001b[39;49m\u001b[43mgroupby\u001b[49m\u001b[43m(\u001b[49m\u001b[38;5;124;43m'\u001b[39;49m\u001b[38;5;124;43mcategories\u001b[39;49m\u001b[38;5;124;43m'\u001b[39;49m\u001b[43m)\u001b[49m\n\u001b[0;32m----> 6\u001b[0m \u001b[43m    \u001b[49m\u001b[38;5;241;43m.\u001b[39;49m\u001b[43mdrop_duplicates\u001b[49m(\u001b[38;5;124m'\u001b[39m\u001b[38;5;124mproduct\u001b[39m\u001b[38;5;124m'\u001b[39m)\n\u001b[1;32m      7\u001b[0m     \u001b[38;5;241m.\u001b[39mhead(\u001b[38;5;241m3\u001b[39m)\n\u001b[1;32m      8\u001b[0m     )\n\u001b[1;32m     10\u001b[0m least_selling \u001b[38;5;241m=\u001b[39m (\n\u001b[1;32m     11\u001b[0m     least_selling\n\u001b[1;32m     12\u001b[0m     \u001b[38;5;241m.\u001b[39mgroupby([\u001b[38;5;124m'\u001b[39m\u001b[38;5;124mproduct\u001b[39m\u001b[38;5;124m'\u001b[39m, \u001b[38;5;124m'\u001b[39m\u001b[38;5;124mavg_sentiment\u001b[39m\u001b[38;5;124m'\u001b[39m, \u001b[38;5;124m'\u001b[39m\u001b[38;5;124mavg_rating\u001b[39m\u001b[38;5;124m'\u001b[39m, \u001b[38;5;124m'\u001b[39m\u001b[38;5;124mrating_count\u001b[39m\u001b[38;5;124m'\u001b[39m, \u001b[38;5;124m'\u001b[39m\u001b[38;5;124mavg_doRecommend\u001b[39m\u001b[38;5;124m'\u001b[39m, \u001b[38;5;124m'\u001b[39m\u001b[38;5;124msample_feedback\u001b[39m\u001b[38;5;124m'\u001b[39m, \u001b[38;5;124m'\u001b[39m\u001b[38;5;124mrank\u001b[39m\u001b[38;5;124m'\u001b[39m], as_index\u001b[38;5;241m=\u001b[39m\u001b[38;5;28;01mFalse\u001b[39;00m)\n\u001b[1;32m     13\u001b[0m     \u001b[38;5;241m.\u001b[39magg({\u001b[38;5;124m'\u001b[39m\u001b[38;5;124mcategories\u001b[39m\u001b[38;5;124m'\u001b[39m: \u001b[38;5;28;01mlambda\u001b[39;00m x: \u001b[38;5;28mlist\u001b[39m(x)})\n\u001b[1;32m     14\u001b[0m )\n\u001b[1;32m     16\u001b[0m least_selling\u001b[38;5;241m.\u001b[39msort_values(\u001b[38;5;124m'\u001b[39m\u001b[38;5;124mrank\u001b[39m\u001b[38;5;124m'\u001b[39m, ascending\u001b[38;5;241m=\u001b[39m\u001b[38;5;28;01mTrue\u001b[39;00m, inplace\u001b[38;5;241m=\u001b[39m\u001b[38;5;28;01mTrue\u001b[39;00m)\n",
      "File \u001b[0;32m~/code/solve-for-target/venv/lib/python3.10/site-packages/pandas/core/groupby/groupby.py:1363\u001b[0m, in \u001b[0;36mGroupBy.__getattr__\u001b[0;34m(self, attr)\u001b[0m\n\u001b[1;32m   1360\u001b[0m \u001b[38;5;28;01mif\u001b[39;00m attr \u001b[38;5;129;01min\u001b[39;00m \u001b[38;5;28mself\u001b[39m\u001b[38;5;241m.\u001b[39mobj:\n\u001b[1;32m   1361\u001b[0m     \u001b[38;5;28;01mreturn\u001b[39;00m \u001b[38;5;28mself\u001b[39m[attr]\n\u001b[0;32m-> 1363\u001b[0m \u001b[38;5;28;01mraise\u001b[39;00m \u001b[38;5;167;01mAttributeError\u001b[39;00m(\n\u001b[1;32m   1364\u001b[0m     \u001b[38;5;124mf\u001b[39m\u001b[38;5;124m\"\u001b[39m\u001b[38;5;124m'\u001b[39m\u001b[38;5;132;01m{\u001b[39;00m\u001b[38;5;28mtype\u001b[39m(\u001b[38;5;28mself\u001b[39m)\u001b[38;5;241m.\u001b[39m\u001b[38;5;18m__name__\u001b[39m\u001b[38;5;132;01m}\u001b[39;00m\u001b[38;5;124m'\u001b[39m\u001b[38;5;124m object has no attribute \u001b[39m\u001b[38;5;124m'\u001b[39m\u001b[38;5;132;01m{\u001b[39;00mattr\u001b[38;5;132;01m}\u001b[39;00m\u001b[38;5;124m'\u001b[39m\u001b[38;5;124m\"\u001b[39m\n\u001b[1;32m   1365\u001b[0m )\n",
      "\u001b[0;31mAttributeError\u001b[0m: 'DataFrameGroupBy' object has no attribute 'drop_duplicates'"
     ]
    }
   ],
   "source": [
    "# Least selling products: sort by 'rating_count' ascending\n",
    "least_selling = (\n",
    "    summary\n",
    "    .sort_values('rating_count', ascending=True)\n",
    "    .groupby('categories')\n",
    "    .drop_duplicates('product')\n",
    "    .head(3)\n",
    "    )\n",
    "\n",
    "least_selling = (\n",
    "    least_selling\n",
    "    .groupby(['product', 'avg_sentiment', 'avg_rating', 'rating_count', 'avg_doRecommend', 'sample_feedback', 'rank'], as_index=False)\n",
    "    .agg({'categories': lambda x: list(x)})\n",
    ")\n",
    "\n",
    "least_selling.sort_values('rank', ascending=True, inplace=True)\n"
   ]
  },
  {
   "cell_type": "code",
   "execution_count": null,
   "id": "3d988680",
   "metadata": {},
   "outputs": [],
   "source": [
    "least_selling.to_csv('../data/output_least_selling.csv', index=False)"
   ]
  }
 ],
 "metadata": {
  "kernelspec": {
   "display_name": "venv",
   "language": "python",
   "name": "python3"
  },
  "language_info": {
   "codemirror_mode": {
    "name": "ipython",
    "version": 3
   },
   "file_extension": ".py",
   "mimetype": "text/x-python",
   "name": "python",
   "nbconvert_exporter": "python",
   "pygments_lexer": "ipython3",
   "version": "3.10.17+"
  }
 },
 "nbformat": 4,
 "nbformat_minor": 5
}
